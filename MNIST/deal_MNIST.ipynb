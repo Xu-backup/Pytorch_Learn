{
 "cells": [
  {
   "cell_type": "code",
   "execution_count": 2,
   "metadata": {},
   "outputs": [
    {
     "ename": "ImportError",
     "evalue": "cannot import name 'COMMON_SAFE_ASCII_CHARACTERS' from 'charset_normalizer.constant' (d:\\Anaconda\\envs\\py3.8\\lib\\site-packages\\charset_normalizer\\constant.py)",
     "output_type": "error",
     "traceback": [
      "\u001b[1;31m---------------------------------------------------------------------------\u001b[0m",
      "\u001b[1;31mModuleNotFoundError\u001b[0m                       Traceback (most recent call last)",
      "File \u001b[1;32md:\\Anaconda\\envs\\py3.8\\lib\\site-packages\\requests\\compat.py:11\u001b[0m\n\u001b[0;32m     10\u001b[0m \u001b[39mtry\u001b[39;00m:\n\u001b[1;32m---> 11\u001b[0m     \u001b[39mimport\u001b[39;00m \u001b[39mchardet\u001b[39;00m\n\u001b[0;32m     12\u001b[0m \u001b[39mexcept\u001b[39;00m \u001b[39mImportError\u001b[39;00m:\n",
      "\u001b[1;31mModuleNotFoundError\u001b[0m: No module named 'chardet'",
      "\nDuring handling of the above exception, another exception occurred:\n",
      "\u001b[1;31mImportError\u001b[0m                               Traceback (most recent call last)",
      "\u001b[1;32md:\\GitBox\\Pytorch_Learn\\MNIST\\deal_MNIST.ipynb 单元格 1\u001b[0m line \u001b[0;36m7\n\u001b[0;32m      <a href='vscode-notebook-cell:/d%3A/GitBox/Pytorch_Learn/MNIST/deal_MNIST.ipynb#W0sZmlsZQ%3D%3D?line=4'>5</a>\u001b[0m \u001b[39mimport\u001b[39;00m \u001b[39mtorch\u001b[39;00m\u001b[39m.\u001b[39;00m\u001b[39mnn\u001b[39;00m\u001b[39m.\u001b[39;00m\u001b[39mfunctional\u001b[39;00m \u001b[39mas\u001b[39;00m \u001b[39mF\u001b[39;00m\n\u001b[0;32m      <a href='vscode-notebook-cell:/d%3A/GitBox/Pytorch_Learn/MNIST/deal_MNIST.ipynb#W0sZmlsZQ%3D%3D?line=5'>6</a>\u001b[0m \u001b[39mimport\u001b[39;00m \u001b[39mtorch\u001b[39;00m\u001b[39m.\u001b[39;00m\u001b[39moptim\u001b[39;00m \u001b[39mas\u001b[39;00m \u001b[39moptim\u001b[39;00m\n\u001b[1;32m----> <a href='vscode-notebook-cell:/d%3A/GitBox/Pytorch_Learn/MNIST/deal_MNIST.ipynb#W0sZmlsZQ%3D%3D?line=6'>7</a>\u001b[0m \u001b[39mfrom\u001b[39;00m \u001b[39mtorchvision\u001b[39;00m \u001b[39mimport\u001b[39;00m datasets, transforms  \u001b[39m#torchvison.datasets提供很多公开数据集\u001b[39;00m\n",
      "File \u001b[1;32md:\\Anaconda\\envs\\py3.8\\lib\\site-packages\\torchvision\\__init__.py:6\u001b[0m\n\u001b[0;32m      3\u001b[0m \u001b[39mfrom\u001b[39;00m \u001b[39mmodulefinder\u001b[39;00m \u001b[39mimport\u001b[39;00m Module\n\u001b[0;32m      5\u001b[0m \u001b[39mimport\u001b[39;00m \u001b[39mtorch\u001b[39;00m\n\u001b[1;32m----> 6\u001b[0m \u001b[39mfrom\u001b[39;00m \u001b[39mtorchvision\u001b[39;00m \u001b[39mimport\u001b[39;00m datasets, io, models, ops, transforms, utils\n\u001b[0;32m      8\u001b[0m \u001b[39mfrom\u001b[39;00m \u001b[39m.\u001b[39;00m\u001b[39mextension\u001b[39;00m \u001b[39mimport\u001b[39;00m _HAS_OPS\n\u001b[0;32m     10\u001b[0m \u001b[39mtry\u001b[39;00m:\n",
      "File \u001b[1;32md:\\Anaconda\\envs\\py3.8\\lib\\site-packages\\torchvision\\datasets\\__init__.py:1\u001b[0m\n\u001b[1;32m----> 1\u001b[0m \u001b[39mfrom\u001b[39;00m \u001b[39m.\u001b[39;00m\u001b[39m_optical_flow\u001b[39;00m \u001b[39mimport\u001b[39;00m FlyingChairs, FlyingThings3D, HD1K, KittiFlow, Sintel\n\u001b[0;32m      2\u001b[0m \u001b[39mfrom\u001b[39;00m \u001b[39m.\u001b[39;00m\u001b[39m_stereo_matching\u001b[39;00m \u001b[39mimport\u001b[39;00m (\n\u001b[0;32m      3\u001b[0m     CarlaStereo,\n\u001b[0;32m      4\u001b[0m     CREStereo,\n\u001b[1;32m   (...)\u001b[0m\n\u001b[0;32m     12\u001b[0m     SintelStereo,\n\u001b[0;32m     13\u001b[0m )\n\u001b[0;32m     14\u001b[0m \u001b[39mfrom\u001b[39;00m \u001b[39m.\u001b[39;00m\u001b[39mcaltech\u001b[39;00m \u001b[39mimport\u001b[39;00m Caltech101, Caltech256\n",
      "File \u001b[1;32md:\\Anaconda\\envs\\py3.8\\lib\\site-packages\\torchvision\\datasets\\_optical_flow.py:13\u001b[0m\n\u001b[0;32m     10\u001b[0m \u001b[39mfrom\u001b[39;00m \u001b[39mPIL\u001b[39;00m \u001b[39mimport\u001b[39;00m Image\n\u001b[0;32m     12\u001b[0m \u001b[39mfrom\u001b[39;00m \u001b[39m.\u001b[39;00m\u001b[39m.\u001b[39;00m\u001b[39mio\u001b[39;00m\u001b[39m.\u001b[39;00m\u001b[39mimage\u001b[39;00m \u001b[39mimport\u001b[39;00m _read_png_16\n\u001b[1;32m---> 13\u001b[0m \u001b[39mfrom\u001b[39;00m \u001b[39m.\u001b[39;00m\u001b[39mutils\u001b[39;00m \u001b[39mimport\u001b[39;00m _read_pfm, verify_str_arg\n\u001b[0;32m     14\u001b[0m \u001b[39mfrom\u001b[39;00m \u001b[39m.\u001b[39;00m\u001b[39mvision\u001b[39;00m \u001b[39mimport\u001b[39;00m VisionDataset\n\u001b[0;32m     17\u001b[0m T1 \u001b[39m=\u001b[39m Tuple[Image\u001b[39m.\u001b[39mImage, Image\u001b[39m.\u001b[39mImage, Optional[np\u001b[39m.\u001b[39mndarray], Optional[np\u001b[39m.\u001b[39mndarray]]\n",
      "File \u001b[1;32md:\\Anaconda\\envs\\py3.8\\lib\\site-packages\\torchvision\\datasets\\utils.py:22\u001b[0m\n\u001b[0;32m     19\u001b[0m \u001b[39mfrom\u001b[39;00m \u001b[39murllib\u001b[39;00m\u001b[39m.\u001b[39;00m\u001b[39mparse\u001b[39;00m \u001b[39mimport\u001b[39;00m urlparse\n\u001b[0;32m     21\u001b[0m \u001b[39mimport\u001b[39;00m \u001b[39mnumpy\u001b[39;00m \u001b[39mas\u001b[39;00m \u001b[39mnp\u001b[39;00m\n\u001b[1;32m---> 22\u001b[0m \u001b[39mimport\u001b[39;00m \u001b[39mrequests\u001b[39;00m\n\u001b[0;32m     23\u001b[0m \u001b[39mimport\u001b[39;00m \u001b[39mtorch\u001b[39;00m\n\u001b[0;32m     24\u001b[0m \u001b[39mfrom\u001b[39;00m \u001b[39mtorch\u001b[39;00m\u001b[39m.\u001b[39;00m\u001b[39mutils\u001b[39;00m\u001b[39m.\u001b[39;00m\u001b[39mmodel_zoo\u001b[39;00m \u001b[39mimport\u001b[39;00m tqdm\n",
      "File \u001b[1;32md:\\Anaconda\\envs\\py3.8\\lib\\site-packages\\requests\\__init__.py:45\u001b[0m\n\u001b[0;32m     41\u001b[0m \u001b[39mimport\u001b[39;00m \u001b[39mwarnings\u001b[39;00m\n\u001b[0;32m     43\u001b[0m \u001b[39mimport\u001b[39;00m \u001b[39murllib3\u001b[39;00m\n\u001b[1;32m---> 45\u001b[0m \u001b[39mfrom\u001b[39;00m \u001b[39m.\u001b[39;00m\u001b[39mexceptions\u001b[39;00m \u001b[39mimport\u001b[39;00m RequestsDependencyWarning\n\u001b[0;32m     47\u001b[0m \u001b[39mtry\u001b[39;00m:\n\u001b[0;32m     48\u001b[0m     \u001b[39mfrom\u001b[39;00m \u001b[39mcharset_normalizer\u001b[39;00m \u001b[39mimport\u001b[39;00m __version__ \u001b[39mas\u001b[39;00m charset_normalizer_version\n",
      "File \u001b[1;32md:\\Anaconda\\envs\\py3.8\\lib\\site-packages\\requests\\exceptions.py:9\u001b[0m\n\u001b[0;32m      1\u001b[0m \u001b[39m\"\"\"\u001b[39;00m\n\u001b[0;32m      2\u001b[0m \u001b[39mrequests.exceptions\u001b[39;00m\n\u001b[0;32m      3\u001b[0m \u001b[39m~~~~~~~~~~~~~~~~~~~\u001b[39;00m\n\u001b[0;32m      4\u001b[0m \n\u001b[0;32m      5\u001b[0m \u001b[39mThis module contains the set of Requests' exceptions.\u001b[39;00m\n\u001b[0;32m      6\u001b[0m \u001b[39m\"\"\"\u001b[39;00m\n\u001b[0;32m      7\u001b[0m \u001b[39mfrom\u001b[39;00m \u001b[39murllib3\u001b[39;00m\u001b[39m.\u001b[39;00m\u001b[39mexceptions\u001b[39;00m \u001b[39mimport\u001b[39;00m HTTPError \u001b[39mas\u001b[39;00m BaseHTTPError\n\u001b[1;32m----> 9\u001b[0m \u001b[39mfrom\u001b[39;00m \u001b[39m.\u001b[39;00m\u001b[39mcompat\u001b[39;00m \u001b[39mimport\u001b[39;00m JSONDecodeError \u001b[39mas\u001b[39;00m CompatJSONDecodeError\n\u001b[0;32m     12\u001b[0m \u001b[39mclass\u001b[39;00m \u001b[39mRequestException\u001b[39;00m(\u001b[39mIOError\u001b[39;00m):\n\u001b[0;32m     13\u001b[0m \u001b[39m    \u001b[39m\u001b[39m\"\"\"There was an ambiguous exception that occurred while handling your\u001b[39;00m\n\u001b[0;32m     14\u001b[0m \u001b[39m    request.\u001b[39;00m\n\u001b[0;32m     15\u001b[0m \u001b[39m    \"\"\"\u001b[39;00m\n",
      "File \u001b[1;32md:\\Anaconda\\envs\\py3.8\\lib\\site-packages\\requests\\compat.py:13\u001b[0m\n\u001b[0;32m     11\u001b[0m     \u001b[39mimport\u001b[39;00m \u001b[39mchardet\u001b[39;00m\n\u001b[0;32m     12\u001b[0m \u001b[39mexcept\u001b[39;00m \u001b[39mImportError\u001b[39;00m:\n\u001b[1;32m---> 13\u001b[0m     \u001b[39mimport\u001b[39;00m \u001b[39mcharset_normalizer\u001b[39;00m \u001b[39mas\u001b[39;00m \u001b[39mchardet\u001b[39;00m\n\u001b[0;32m     15\u001b[0m \u001b[39mimport\u001b[39;00m \u001b[39msys\u001b[39;00m\n\u001b[0;32m     17\u001b[0m \u001b[39m# -------\u001b[39;00m\n\u001b[0;32m     18\u001b[0m \u001b[39m# Pythons\u001b[39;00m\n\u001b[0;32m     19\u001b[0m \u001b[39m# -------\u001b[39;00m\n\u001b[0;32m     20\u001b[0m \n\u001b[0;32m     21\u001b[0m \u001b[39m# Syntax sugar.\u001b[39;00m\n",
      "File \u001b[1;32md:\\Anaconda\\envs\\py3.8\\lib\\site-packages\\charset_normalizer\\__init__.py:23\u001b[0m\n\u001b[0;32m      1\u001b[0m \u001b[39m\"\"\"\u001b[39;00m\n\u001b[0;32m      2\u001b[0m \u001b[39mCharset-Normalizer\u001b[39;00m\n\u001b[0;32m      3\u001b[0m \u001b[39m~~~~~~~~~~~~~~\u001b[39;00m\n\u001b[1;32m   (...)\u001b[0m\n\u001b[0;32m     21\u001b[0m \u001b[39m:license: MIT, see LICENSE for more details.\u001b[39;00m\n\u001b[0;32m     22\u001b[0m \u001b[39m\"\"\"\u001b[39;00m\n\u001b[1;32m---> 23\u001b[0m \u001b[39mfrom\u001b[39;00m \u001b[39mcharset_normalizer\u001b[39;00m\u001b[39m.\u001b[39;00m\u001b[39mapi\u001b[39;00m \u001b[39mimport\u001b[39;00m from_fp, from_path, from_bytes, normalize\n\u001b[0;32m     24\u001b[0m \u001b[39mfrom\u001b[39;00m \u001b[39mcharset_normalizer\u001b[39;00m\u001b[39m.\u001b[39;00m\u001b[39mlegacy\u001b[39;00m \u001b[39mimport\u001b[39;00m detect\n\u001b[0;32m     25\u001b[0m \u001b[39mfrom\u001b[39;00m \u001b[39mcharset_normalizer\u001b[39;00m\u001b[39m.\u001b[39;00m\u001b[39mversion\u001b[39;00m \u001b[39mimport\u001b[39;00m __version__, VERSION\n",
      "File \u001b[1;32md:\\Anaconda\\envs\\py3.8\\lib\\site-packages\\charset_normalizer\\api.py:10\u001b[0m\n\u001b[0;32m      7\u001b[0m     PathLike \u001b[39m=\u001b[39m Union[\u001b[39mstr\u001b[39m, \u001b[39m'\u001b[39m\u001b[39mos.PathLike[str]\u001b[39m\u001b[39m'\u001b[39m]  \u001b[39m# type: ignore\u001b[39;00m\n\u001b[0;32m      9\u001b[0m \u001b[39mfrom\u001b[39;00m \u001b[39mcharset_normalizer\u001b[39;00m\u001b[39m.\u001b[39;00m\u001b[39mconstant\u001b[39;00m \u001b[39mimport\u001b[39;00m TOO_SMALL_SEQUENCE, TOO_BIG_SEQUENCE, IANA_SUPPORTED\n\u001b[1;32m---> 10\u001b[0m \u001b[39mfrom\u001b[39;00m \u001b[39mcharset_normalizer\u001b[39;00m\u001b[39m.\u001b[39;00m\u001b[39mmd\u001b[39;00m \u001b[39mimport\u001b[39;00m mess_ratio\n\u001b[0;32m     11\u001b[0m \u001b[39mfrom\u001b[39;00m \u001b[39mcharset_normalizer\u001b[39;00m\u001b[39m.\u001b[39;00m\u001b[39mmodels\u001b[39;00m \u001b[39mimport\u001b[39;00m CharsetMatches, CharsetMatch\n\u001b[0;32m     12\u001b[0m \u001b[39mfrom\u001b[39;00m \u001b[39mwarnings\u001b[39;00m \u001b[39mimport\u001b[39;00m warn\n",
      "File \u001b[1;32md:\\Anaconda\\envs\\py3.8\\lib\\site-packages\\charset_normalizer\\md.py:5\u001b[0m\n\u001b[0;32m      2\u001b[0m \u001b[39mfrom\u001b[39;00m \u001b[39mtyping\u001b[39;00m \u001b[39mimport\u001b[39;00m Optional, List\n\u001b[0;32m      4\u001b[0m \u001b[39mfrom\u001b[39;00m \u001b[39mcharset_normalizer\u001b[39;00m\u001b[39m.\u001b[39;00m\u001b[39mconstant\u001b[39;00m \u001b[39mimport\u001b[39;00m UNICODE_SECONDARY_RANGE_KEYWORD\n\u001b[1;32m----> 5\u001b[0m \u001b[39mfrom\u001b[39;00m \u001b[39mcharset_normalizer\u001b[39;00m\u001b[39m.\u001b[39;00m\u001b[39mutils\u001b[39;00m \u001b[39mimport\u001b[39;00m is_punctuation, is_symbol, unicode_range, is_accentuated, is_latin, \\\n\u001b[0;32m      6\u001b[0m     remove_accent, is_separator, is_cjk, is_case_variable, is_hangul, is_katakana, is_hiragana, is_ascii, is_thai\n\u001b[0;32m      9\u001b[0m \u001b[39mclass\u001b[39;00m \u001b[39mMessDetectorPlugin\u001b[39;00m:\n\u001b[0;32m     10\u001b[0m \u001b[39m    \u001b[39m\u001b[39m\"\"\"\u001b[39;00m\n\u001b[0;32m     11\u001b[0m \u001b[39m    Base abstract class used for mess detection plugins.\u001b[39;00m\n\u001b[0;32m     12\u001b[0m \u001b[39m    All detectors MUST extend and implement given methods.\u001b[39;00m\n\u001b[0;32m     13\u001b[0m \u001b[39m    \"\"\"\u001b[39;00m\n",
      "\u001b[1;31mImportError\u001b[0m: cannot import name 'COMMON_SAFE_ASCII_CHARACTERS' from 'charset_normalizer.constant' (d:\\Anaconda\\envs\\py3.8\\lib\\site-packages\\charset_normalizer\\constant.py)"
     ]
    }
   ],
   "source": [
    "#加载必要的库\n",
    "import torch\n",
    "from tqdm import tqdm\n",
    "import torch.nn as nn\n",
    "import torch.nn.functional as F\n",
    "import torch.optim as optim\n",
    "from torchvision import datasets, transforms  #torchvison.datasets提供很多公开数据集"
   ]
  },
  {
   "cell_type": "code",
   "execution_count": 57,
   "metadata": {},
   "outputs": [],
   "source": [
    "#定义超参数  认为定义的参数\n",
    "BATCH_SIZE = 128 #每批处理的数据\n",
    "DEVICE = torch.device(\"cuda\" if torch.cuda.is_available() else \"cpu\") #选择训练的设备是GPU还是CPU。\n",
    "EPOCHS = 5  #训练的轮次"
   ]
  },
  {
   "cell_type": "code",
   "execution_count": 58,
   "metadata": {},
   "outputs": [],
   "source": [
    "## 构建网络模型\n",
    "class Net(nn.Module):\n",
    "    def __init__(self):\n",
    "        super().__init__()\n",
    "        \n",
    "        self.conv1 = nn.Conv2d(1, 10, 5) #1:灰度图片输入通道  10：输出通道(卷积核的个数)  5：kernel卷积核大小 （卷积层）\n",
    "        self.conv2 = nn.Conv2d(10, 20, 3)#10：输入通道 20：输出通道 3：kernel （卷积层）\n",
    "        self.fc1 = nn.Linear(20*10*10, 500)#20*10*10：输入通道 500：输出通道 全连接层\n",
    "        self.fc2 = nn.Linear(500, 10)#500：输入通道 10：输出通道 全连接层 (线性层) \n",
    "        self.maxpool1 = nn.MaxPool2d(kernel_size=2,ceil_mode=False)\n",
    "        self.relu = nn.ReLU() #inplace 是否覆盖input\n",
    "    \n",
    "    def forward(self,x):  #前向传播过程\n",
    "        input_size = x.size(0) #batch_size\n",
    "\n",
    "        x = self.conv1(x) #输入：batch_size*1*28*28 输出：batch_size*10*24*24 (24 = 28 - 5 + 1) （卷积层）\n",
    "        x = F.relu(x)  #激活函数，在所有隐藏层之间增加激活函数提高表达能力\n",
    "\n",
    "        #x = F.max_pool2d(x, 2, 2) #（池化层），对图片进行压缩，输入：bantch*10*24*24 输出：batch*10*12*12  取池化核中最大的值\n",
    "        x = self.maxpool1(x)\n",
    "        \n",
    "        x = self.conv2(x) #输入：batch*10*12*12 输出batch*20*10*10 （10 = 12 - 3 + 1）\n",
    "        x = F.relu(x)\n",
    "\n",
    "        x = x.view(input_size, -1) #拉平，-1自动计算维度，20*10*10=2000\n",
    "        #或者x = torch.flatten(x, 1)\n",
    "\n",
    "        x = self.fc1(x) #输入：batch*2000 输出：batch*500\n",
    "        x = F.relu(x)\n",
    "\n",
    "        x = self.fc2(x) #输入：batch*500 输出：batch*10\n",
    "\n",
    "        output = F.log_softmax(x,dim=1) #计算分类后，每个数字的概率值\n",
    "\n",
    "        return output"
   ]
  },
  {
   "cell_type": "code",
   "execution_count": null,
   "metadata": {},
   "outputs": [],
   "source": []
  },
  {
   "cell_type": "code",
   "execution_count": 59,
   "metadata": {},
   "outputs": [],
   "source": [
    "## 定义训练方法\n",
    "def train_model(model, device, train_loader, optimizer, epoch, loss_list, correct_list):\n",
    "    #模型训练\n",
    "    correct = 0.0\n",
    "    train_loss = 0.0\n",
    "    train_bar = tqdm(train_loader)\n",
    "    model.train()\n",
    "    for batch_index, (data, target) in enumerate(train_bar):  #data为一个batch\n",
    "        #部署到device上\n",
    "        data, target = data.to(device), target.to(device)\n",
    "        #初始化梯度\n",
    "        optimizer.zero_grad()\n",
    "        #训练后的结果\n",
    "        output = model(data)\n",
    "        pred = output.argmax(dim=1)\n",
    "        correct += pred.eq(target.view_as(pred)).sum().item()\n",
    "        #计算损失，多分类问题的损失（交叉熵）\n",
    "        loss = F.cross_entropy(output, target).cuda()\n",
    "        train_loss += loss.item()\n",
    "        #反向传播（将梯度返回model，优化器利用梯度优化参数）\n",
    "        loss.backward()\n",
    "        #参数优化(根据模型中的梯度，进行调优)\n",
    "        optimizer.step()\n",
    "        train_bar.set_description(f\"Epoch {epoch}:\")\n",
    "    train_loss /= len(train_loader.dataset)\n",
    "    correct = correct/len(train_loader.dataset)*100\n",
    "    loss_list.append(train_loss)\n",
    "    correct_list.append(correct)"
   ]
  },
  {
   "cell_type": "code",
   "execution_count": 60,
   "metadata": {},
   "outputs": [],
   "source": [
    "## 定义测试方法\n",
    "def test_model(model, device, test_loader):\n",
    "    #模型验证\n",
    "    model.eval()\n",
    "    #正确率\n",
    "    correct = 0.0\n",
    "    #测试损失\n",
    "    test_loss = 0.0\n",
    "\n",
    "    with torch.no_grad(): #不计算梯度，不反向传播\n",
    "        for data, target in test_loader:\n",
    "            #部署到device\n",
    "            data, target = data.to(device), target.to(device)\n",
    "            #data, target = data.cuda(), target.cuda() 数据部署到GPU\n",
    "\n",
    "            #测试数据\n",
    "            output = model(data)\n",
    "            #计算损失\n",
    "            test_loss += F.cross_entropy(output, target).item()\n",
    "            #获取预测值\n",
    "            pred = output.argmax(dim=1)\n",
    "            #累计正确的个数\n",
    "            correct += pred.eq(target.view_as(pred)).sum().item()\n",
    "    \n",
    "    test_loss /= len(test_loader.dataset)\n",
    "    print(f\"Test Average Loss:{test_loss:.4f}, Accuracy:{correct/len(test_loader.dataset)*100:.3f}\")"
   ]
  },
  {
   "cell_type": "code",
   "execution_count": 61,
   "metadata": {},
   "outputs": [],
   "source": [
    "## 构建pipeline，对图像做处理，transform是pytorch为转换图片提供的工具\n",
    "pipeline = transforms.Compose([\n",
    "    transforms.ToTensor(),  #将图片转换为tensor\n",
    "    transforms.Normalize((0.1307,),(0.3081,)) #正则化降低模型复杂度，解决过拟合\n",
    "])"
   ]
  },
  {
   "cell_type": "code",
   "execution_count": 62,
   "metadata": {},
   "outputs": [
    {
     "data": {
      "text/plain": [
       "torch.utils.data.dataloader.DataLoader"
      ]
     },
     "execution_count": 62,
     "metadata": {},
     "output_type": "execute_result"
    }
   ],
   "source": [
    "## 下载，加载数据\n",
    "from torch.utils.data import DataLoader\n",
    "\n",
    "#下载数据集 \n",
    "#img, target = train_set[0] 获取数据集的内容和标签\n",
    "#train_set[0] 调用的是__getitem__()默认函数\n",
    "#test_set.classes[target] 获取标签名称\n",
    "#train_set和test_set 都是 Dataset类的实例（可以自行重写）  from torch.utils.data import Dataset \n",
    "train_set = datasets.MNIST(\"Data\", train=True, download=True, transform=pipeline)\n",
    "\n",
    "test_set = datasets.MNIST(\"Data\", train=False, download=True, transform=pipeline)\n",
    "\n",
    "'''img, target = train_set[0]\n",
    "print(img.shape)\n",
    "print(train_set.classes[target])'''\n",
    "\n",
    "#加载数据 \n",
    "#装载数据时确定了每个batch大小 batch_size变量\n",
    "#将batch_size个img和target进行打包返回\n",
    "#train_set和test_set 都是 Dataset类的实例（可以自行重写）\n",
    "train_loader = DataLoader(train_set, batch_size=BATCH_SIZE, shuffle=True) \n",
    "\n",
    "test_loader = DataLoader(test_set, batch_size=BATCH_SIZE, shuffle=True)\n",
    "\n",
    "type(train_loader)\n"
   ]
  },
  {
   "cell_type": "code",
   "execution_count": 71,
   "metadata": {},
   "outputs": [
    {
     "name": "stdout",
     "output_type": "stream",
     "text": [
      "(28, 28, 1)\n"
     ]
    },
    {
     "name": "stderr",
     "output_type": "stream",
     "text": [
      "C:\\Users\\Xu\\AppData\\Local\\Temp\\ipykernel_15060\\2164844242.py:8: DeprecationWarning: NumPy will stop allowing conversion of out-of-bound Python integers to integer arrays.  The conversion of 389 to uint8 will fail in the future.\n",
      "For the old behavior, usually:\n",
      "    np.array(value).astype(dtype)`\n",
      "will give the desired result (the cast overflows).\n",
      "  image1_np = np.array(image1, dtype=np.uint8).reshape(28,28,1)\n",
      "C:\\Users\\Xu\\AppData\\Local\\Temp\\ipykernel_15060\\2164844242.py:8: DeprecationWarning: NumPy will stop allowing conversion of out-of-bound Python integers to integer arrays.  The conversion of 345 to uint8 will fail in the future.\n",
      "For the old behavior, usually:\n",
      "    np.array(value).astype(dtype)`\n",
      "will give the desired result (the cast overflows).\n",
      "  image1_np = np.array(image1, dtype=np.uint8).reshape(28,28,1)\n",
      "C:\\Users\\Xu\\AppData\\Local\\Temp\\ipykernel_15060\\2164844242.py:8: DeprecationWarning: NumPy will stop allowing conversion of out-of-bound Python integers to integer arrays.  The conversion of 337 to uint8 will fail in the future.\n",
      "For the old behavior, usually:\n",
      "    np.array(value).astype(dtype)`\n",
      "will give the desired result (the cast overflows).\n",
      "  image1_np = np.array(image1, dtype=np.uint8).reshape(28,28,1)\n",
      "C:\\Users\\Xu\\AppData\\Local\\Temp\\ipykernel_15060\\2164844242.py:8: DeprecationWarning: NumPy will stop allowing conversion of out-of-bound Python integers to integer arrays.  The conversion of 546 to uint8 will fail in the future.\n",
      "For the old behavior, usually:\n",
      "    np.array(value).astype(dtype)`\n",
      "will give the desired result (the cast overflows).\n",
      "  image1_np = np.array(image1, dtype=np.uint8).reshape(28,28,1)\n",
      "C:\\Users\\Xu\\AppData\\Local\\Temp\\ipykernel_15060\\2164844242.py:8: DeprecationWarning: NumPy will stop allowing conversion of out-of-bound Python integers to integer arrays.  The conversion of 596 to uint8 will fail in the future.\n",
      "For the old behavior, usually:\n",
      "    np.array(value).astype(dtype)`\n",
      "will give the desired result (the cast overflows).\n",
      "  image1_np = np.array(image1, dtype=np.uint8).reshape(28,28,1)\n",
      "C:\\Users\\Xu\\AppData\\Local\\Temp\\ipykernel_15060\\2164844242.py:8: DeprecationWarning: NumPy will stop allowing conversion of out-of-bound Python integers to integer arrays.  The conversion of 577 to uint8 will fail in the future.\n",
      "For the old behavior, usually:\n",
      "    np.array(value).astype(dtype)`\n",
      "will give the desired result (the cast overflows).\n",
      "  image1_np = np.array(image1, dtype=np.uint8).reshape(28,28,1)\n",
      "C:\\Users\\Xu\\AppData\\Local\\Temp\\ipykernel_15060\\2164844242.py:8: DeprecationWarning: NumPy will stop allowing conversion of out-of-bound Python integers to integer arrays.  The conversion of 408 to uint8 will fail in the future.\n",
      "For the old behavior, usually:\n",
      "    np.array(value).astype(dtype)`\n",
      "will give the desired result (the cast overflows).\n",
      "  image1_np = np.array(image1, dtype=np.uint8).reshape(28,28,1)\n",
      "C:\\Users\\Xu\\AppData\\Local\\Temp\\ipykernel_15060\\2164844242.py:8: DeprecationWarning: NumPy will stop allowing conversion of out-of-bound Python integers to integer arrays.  The conversion of 368 to uint8 will fail in the future.\n",
      "For the old behavior, usually:\n",
      "    np.array(value).astype(dtype)`\n",
      "will give the desired result (the cast overflows).\n",
      "  image1_np = np.array(image1, dtype=np.uint8).reshape(28,28,1)\n",
      "C:\\Users\\Xu\\AppData\\Local\\Temp\\ipykernel_15060\\2164844242.py:8: DeprecationWarning: NumPy will stop allowing conversion of out-of-bound Python integers to integer arrays.  The conversion of 276 to uint8 will fail in the future.\n",
      "For the old behavior, usually:\n",
      "    np.array(value).astype(dtype)`\n",
      "will give the desired result (the cast overflows).\n",
      "  image1_np = np.array(image1, dtype=np.uint8).reshape(28,28,1)\n",
      "C:\\Users\\Xu\\AppData\\Local\\Temp\\ipykernel_15060\\2164844242.py:8: DeprecationWarning: NumPy will stop allowing conversion of out-of-bound Python integers to integer arrays.  The conversion of 355 to uint8 will fail in the future.\n",
      "For the old behavior, usually:\n",
      "    np.array(value).astype(dtype)`\n",
      "will give the desired result (the cast overflows).\n",
      "  image1_np = np.array(image1, dtype=np.uint8).reshape(28,28,1)\n",
      "C:\\Users\\Xu\\AppData\\Local\\Temp\\ipykernel_15060\\2164844242.py:8: DeprecationWarning: NumPy will stop allowing conversion of out-of-bound Python integers to integer arrays.  The conversion of 551 to uint8 will fail in the future.\n",
      "For the old behavior, usually:\n",
      "    np.array(value).astype(dtype)`\n",
      "will give the desired result (the cast overflows).\n",
      "  image1_np = np.array(image1, dtype=np.uint8).reshape(28,28,1)\n",
      "C:\\Users\\Xu\\AppData\\Local\\Temp\\ipykernel_15060\\2164844242.py:8: DeprecationWarning: NumPy will stop allowing conversion of out-of-bound Python integers to integer arrays.  The conversion of 549 to uint8 will fail in the future.\n",
      "For the old behavior, usually:\n",
      "    np.array(value).astype(dtype)`\n",
      "will give the desired result (the cast overflows).\n",
      "  image1_np = np.array(image1, dtype=np.uint8).reshape(28,28,1)\n",
      "C:\\Users\\Xu\\AppData\\Local\\Temp\\ipykernel_15060\\2164844242.py:8: DeprecationWarning: NumPy will stop allowing conversion of out-of-bound Python integers to integer arrays.  The conversion of 592 to uint8 will fail in the future.\n",
      "For the old behavior, usually:\n",
      "    np.array(value).astype(dtype)`\n",
      "will give the desired result (the cast overflows).\n",
      "  image1_np = np.array(image1, dtype=np.uint8).reshape(28,28,1)\n",
      "C:\\Users\\Xu\\AppData\\Local\\Temp\\ipykernel_15060\\2164844242.py:8: DeprecationWarning: NumPy will stop allowing conversion of out-of-bound Python integers to integer arrays.  The conversion of 553 to uint8 will fail in the future.\n",
      "For the old behavior, usually:\n",
      "    np.array(value).astype(dtype)`\n",
      "will give the desired result (the cast overflows).\n",
      "  image1_np = np.array(image1, dtype=np.uint8).reshape(28,28,1)\n",
      "C:\\Users\\Xu\\AppData\\Local\\Temp\\ipykernel_15060\\2164844242.py:8: DeprecationWarning: NumPy will stop allowing conversion of out-of-bound Python integers to integer arrays.  The conversion of 320 to uint8 will fail in the future.\n",
      "For the old behavior, usually:\n",
      "    np.array(value).astype(dtype)`\n",
      "will give the desired result (the cast overflows).\n",
      "  image1_np = np.array(image1, dtype=np.uint8).reshape(28,28,1)\n",
      "C:\\Users\\Xu\\AppData\\Local\\Temp\\ipykernel_15060\\2164844242.py:8: DeprecationWarning: NumPy will stop allowing conversion of out-of-bound Python integers to integer arrays.  The conversion of 566 to uint8 will fail in the future.\n",
      "For the old behavior, usually:\n",
      "    np.array(value).astype(dtype)`\n",
      "will give the desired result (the cast overflows).\n",
      "  image1_np = np.array(image1, dtype=np.uint8).reshape(28,28,1)\n",
      "C:\\Users\\Xu\\AppData\\Local\\Temp\\ipykernel_15060\\2164844242.py:8: DeprecationWarning: NumPy will stop allowing conversion of out-of-bound Python integers to integer arrays.  The conversion of 262 to uint8 will fail in the future.\n",
      "For the old behavior, usually:\n",
      "    np.array(value).astype(dtype)`\n",
      "will give the desired result (the cast overflows).\n",
      "  image1_np = np.array(image1, dtype=np.uint8).reshape(28,28,1)\n",
      "C:\\Users\\Xu\\AppData\\Local\\Temp\\ipykernel_15060\\2164844242.py:8: DeprecationWarning: NumPy will stop allowing conversion of out-of-bound Python integers to integer arrays.  The conversion of 595 to uint8 will fail in the future.\n",
      "For the old behavior, usually:\n",
      "    np.array(value).astype(dtype)`\n",
      "will give the desired result (the cast overflows).\n",
      "  image1_np = np.array(image1, dtype=np.uint8).reshape(28,28,1)\n",
      "C:\\Users\\Xu\\AppData\\Local\\Temp\\ipykernel_15060\\2164844242.py:8: DeprecationWarning: NumPy will stop allowing conversion of out-of-bound Python integers to integer arrays.  The conversion of 521 to uint8 will fail in the future.\n",
      "For the old behavior, usually:\n",
      "    np.array(value).astype(dtype)`\n",
      "will give the desired result (the cast overflows).\n",
      "  image1_np = np.array(image1, dtype=np.uint8).reshape(28,28,1)\n",
      "C:\\Users\\Xu\\AppData\\Local\\Temp\\ipykernel_15060\\2164844242.py:8: DeprecationWarning: NumPy will stop allowing conversion of out-of-bound Python integers to integer arrays.  The conversion of 563 to uint8 will fail in the future.\n",
      "For the old behavior, usually:\n",
      "    np.array(value).astype(dtype)`\n",
      "will give the desired result (the cast overflows).\n",
      "  image1_np = np.array(image1, dtype=np.uint8).reshape(28,28,1)\n",
      "C:\\Users\\Xu\\AppData\\Local\\Temp\\ipykernel_15060\\2164844242.py:8: DeprecationWarning: NumPy will stop allowing conversion of out-of-bound Python integers to integer arrays.  The conversion of 597 to uint8 will fail in the future.\n",
      "For the old behavior, usually:\n",
      "    np.array(value).astype(dtype)`\n",
      "will give the desired result (the cast overflows).\n",
      "  image1_np = np.array(image1, dtype=np.uint8).reshape(28,28,1)\n",
      "C:\\Users\\Xu\\AppData\\Local\\Temp\\ipykernel_15060\\2164844242.py:8: DeprecationWarning: NumPy will stop allowing conversion of out-of-bound Python integers to integer arrays.  The conversion of 297 to uint8 will fail in the future.\n",
      "For the old behavior, usually:\n",
      "    np.array(value).astype(dtype)`\n",
      "will give the desired result (the cast overflows).\n",
      "  image1_np = np.array(image1, dtype=np.uint8).reshape(28,28,1)\n",
      "C:\\Users\\Xu\\AppData\\Local\\Temp\\ipykernel_15060\\2164844242.py:8: DeprecationWarning: NumPy will stop allowing conversion of out-of-bound Python integers to integer arrays.  The conversion of 568 to uint8 will fail in the future.\n",
      "For the old behavior, usually:\n",
      "    np.array(value).astype(dtype)`\n",
      "will give the desired result (the cast overflows).\n",
      "  image1_np = np.array(image1, dtype=np.uint8).reshape(28,28,1)\n",
      "C:\\Users\\Xu\\AppData\\Local\\Temp\\ipykernel_15060\\2164844242.py:8: DeprecationWarning: NumPy will stop allowing conversion of out-of-bound Python integers to integer arrays.  The conversion of 585 to uint8 will fail in the future.\n",
      "For the old behavior, usually:\n",
      "    np.array(value).astype(dtype)`\n",
      "will give the desired result (the cast overflows).\n",
      "  image1_np = np.array(image1, dtype=np.uint8).reshape(28,28,1)\n",
      "C:\\Users\\Xu\\AppData\\Local\\Temp\\ipykernel_15060\\2164844242.py:8: DeprecationWarning: NumPy will stop allowing conversion of out-of-bound Python integers to integer arrays.  The conversion of 307 to uint8 will fail in the future.\n",
      "For the old behavior, usually:\n",
      "    np.array(value).astype(dtype)`\n",
      "will give the desired result (the cast overflows).\n",
      "  image1_np = np.array(image1, dtype=np.uint8).reshape(28,28,1)\n",
      "C:\\Users\\Xu\\AppData\\Local\\Temp\\ipykernel_15060\\2164844242.py:8: DeprecationWarning: NumPy will stop allowing conversion of out-of-bound Python integers to integer arrays.  The conversion of 391 to uint8 will fail in the future.\n",
      "For the old behavior, usually:\n",
      "    np.array(value).astype(dtype)`\n",
      "will give the desired result (the cast overflows).\n",
      "  image1_np = np.array(image1, dtype=np.uint8).reshape(28,28,1)\n",
      "C:\\Users\\Xu\\AppData\\Local\\Temp\\ipykernel_15060\\2164844242.py:8: DeprecationWarning: NumPy will stop allowing conversion of out-of-bound Python integers to integer arrays.  The conversion of 517 to uint8 will fail in the future.\n",
      "For the old behavior, usually:\n",
      "    np.array(value).astype(dtype)`\n",
      "will give the desired result (the cast overflows).\n",
      "  image1_np = np.array(image1, dtype=np.uint8).reshape(28,28,1)\n",
      "C:\\Users\\Xu\\AppData\\Local\\Temp\\ipykernel_15060\\2164844242.py:8: DeprecationWarning: NumPy will stop allowing conversion of out-of-bound Python integers to integer arrays.  The conversion of 584 to uint8 will fail in the future.\n",
      "For the old behavior, usually:\n",
      "    np.array(value).astype(dtype)`\n",
      "will give the desired result (the cast overflows).\n",
      "  image1_np = np.array(image1, dtype=np.uint8).reshape(28,28,1)\n",
      "C:\\Users\\Xu\\AppData\\Local\\Temp\\ipykernel_15060\\2164844242.py:8: DeprecationWarning: NumPy will stop allowing conversion of out-of-bound Python integers to integer arrays.  The conversion of 294 to uint8 will fail in the future.\n",
      "For the old behavior, usually:\n",
      "    np.array(value).astype(dtype)`\n",
      "will give the desired result (the cast overflows).\n",
      "  image1_np = np.array(image1, dtype=np.uint8).reshape(28,28,1)\n",
      "C:\\Users\\Xu\\AppData\\Local\\Temp\\ipykernel_15060\\2164844242.py:8: DeprecationWarning: NumPy will stop allowing conversion of out-of-bound Python integers to integer arrays.  The conversion of 386 to uint8 will fail in the future.\n",
      "For the old behavior, usually:\n",
      "    np.array(value).astype(dtype)`\n",
      "will give the desired result (the cast overflows).\n",
      "  image1_np = np.array(image1, dtype=np.uint8).reshape(28,28,1)\n",
      "C:\\Users\\Xu\\AppData\\Local\\Temp\\ipykernel_15060\\2164844242.py:8: DeprecationWarning: NumPy will stop allowing conversion of out-of-bound Python integers to integer arrays.  The conversion of 593 to uint8 will fail in the future.\n",
      "For the old behavior, usually:\n",
      "    np.array(value).astype(dtype)`\n",
      "will give the desired result (the cast overflows).\n",
      "  image1_np = np.array(image1, dtype=np.uint8).reshape(28,28,1)\n",
      "C:\\Users\\Xu\\AppData\\Local\\Temp\\ipykernel_15060\\2164844242.py:8: DeprecationWarning: NumPy will stop allowing conversion of out-of-bound Python integers to integer arrays.  The conversion of 576 to uint8 will fail in the future.\n",
      "For the old behavior, usually:\n",
      "    np.array(value).astype(dtype)`\n",
      "will give the desired result (the cast overflows).\n",
      "  image1_np = np.array(image1, dtype=np.uint8).reshape(28,28,1)\n",
      "C:\\Users\\Xu\\AppData\\Local\\Temp\\ipykernel_15060\\2164844242.py:8: DeprecationWarning: NumPy will stop allowing conversion of out-of-bound Python integers to integer arrays.  The conversion of 545 to uint8 will fail in the future.\n",
      "For the old behavior, usually:\n",
      "    np.array(value).astype(dtype)`\n",
      "will give the desired result (the cast overflows).\n",
      "  image1_np = np.array(image1, dtype=np.uint8).reshape(28,28,1)\n",
      "C:\\Users\\Xu\\AppData\\Local\\Temp\\ipykernel_15060\\2164844242.py:8: DeprecationWarning: NumPy will stop allowing conversion of out-of-bound Python integers to integer arrays.  The conversion of 358 to uint8 will fail in the future.\n",
      "For the old behavior, usually:\n",
      "    np.array(value).astype(dtype)`\n",
      "will give the desired result (the cast overflows).\n",
      "  image1_np = np.array(image1, dtype=np.uint8).reshape(28,28,1)\n",
      "C:\\Users\\Xu\\AppData\\Local\\Temp\\ipykernel_15060\\2164844242.py:8: DeprecationWarning: NumPy will stop allowing conversion of out-of-bound Python integers to integer arrays.  The conversion of 515 to uint8 will fail in the future.\n",
      "For the old behavior, usually:\n",
      "    np.array(value).astype(dtype)`\n",
      "will give the desired result (the cast overflows).\n",
      "  image1_np = np.array(image1, dtype=np.uint8).reshape(28,28,1)\n",
      "C:\\Users\\Xu\\AppData\\Local\\Temp\\ipykernel_15060\\2164844242.py:8: DeprecationWarning: NumPy will stop allowing conversion of out-of-bound Python integers to integer arrays.  The conversion of 537 to uint8 will fail in the future.\n",
      "For the old behavior, usually:\n",
      "    np.array(value).astype(dtype)`\n",
      "will give the desired result (the cast overflows).\n",
      "  image1_np = np.array(image1, dtype=np.uint8).reshape(28,28,1)\n",
      "C:\\Users\\Xu\\AppData\\Local\\Temp\\ipykernel_15060\\2164844242.py:8: DeprecationWarning: NumPy will stop allowing conversion of out-of-bound Python integers to integer arrays.  The conversion of 548 to uint8 will fail in the future.\n",
      "For the old behavior, usually:\n",
      "    np.array(value).astype(dtype)`\n",
      "will give the desired result (the cast overflows).\n",
      "  image1_np = np.array(image1, dtype=np.uint8).reshape(28,28,1)\n",
      "C:\\Users\\Xu\\AppData\\Local\\Temp\\ipykernel_15060\\2164844242.py:8: DeprecationWarning: NumPy will stop allowing conversion of out-of-bound Python integers to integer arrays.  The conversion of 277 to uint8 will fail in the future.\n",
      "For the old behavior, usually:\n",
      "    np.array(value).astype(dtype)`\n",
      "will give the desired result (the cast overflows).\n",
      "  image1_np = np.array(image1, dtype=np.uint8).reshape(28,28,1)\n",
      "C:\\Users\\Xu\\AppData\\Local\\Temp\\ipykernel_15060\\2164844242.py:8: DeprecationWarning: NumPy will stop allowing conversion of out-of-bound Python integers to integer arrays.  The conversion of 578 to uint8 will fail in the future.\n",
      "For the old behavior, usually:\n",
      "    np.array(value).astype(dtype)`\n",
      "will give the desired result (the cast overflows).\n",
      "  image1_np = np.array(image1, dtype=np.uint8).reshape(28,28,1)\n",
      "C:\\Users\\Xu\\AppData\\Local\\Temp\\ipykernel_15060\\2164844242.py:8: DeprecationWarning: NumPy will stop allowing conversion of out-of-bound Python integers to integer arrays.  The conversion of 289 to uint8 will fail in the future.\n",
      "For the old behavior, usually:\n",
      "    np.array(value).astype(dtype)`\n",
      "will give the desired result (the cast overflows).\n",
      "  image1_np = np.array(image1, dtype=np.uint8).reshape(28,28,1)\n",
      "C:\\Users\\Xu\\AppData\\Local\\Temp\\ipykernel_15060\\2164844242.py:8: DeprecationWarning: NumPy will stop allowing conversion of out-of-bound Python integers to integer arrays.  The conversion of 519 to uint8 will fail in the future.\n",
      "For the old behavior, usually:\n",
      "    np.array(value).astype(dtype)`\n",
      "will give the desired result (the cast overflows).\n",
      "  image1_np = np.array(image1, dtype=np.uint8).reshape(28,28,1)\n"
     ]
    },
    {
     "data": {
      "text/plain": [
       "True"
      ]
     },
     "execution_count": 71,
     "metadata": {},
     "output_type": "execute_result"
    }
   ],
   "source": [
    "##查看 MNIST中文件的图片\n",
    "'''with open(\"./Data/MNIST/raw/t10k-images-idx3-ubyte\",\"rb\") as f:\n",
    "    file = f.read()\n",
    "\n",
    "image1 = [int(str(item).encode(\"ascii\"), 16) for item in file [16 : 16+784]]\n",
    "import cv2\n",
    "import numpy as np\n",
    "image1_np = np.array(image1, dtype=np.uint8).reshape(28,28,1)\n",
    "\n",
    "print(image1_np.shape)\n",
    "cv2.imwrite(\"digit.jpg\", image1_np)'''"
   ]
  },
  {
   "cell_type": "code",
   "execution_count": 64,
   "metadata": {},
   "outputs": [],
   "source": [
    " ## 定义优化器\n",
    "model = Net().to(DEVICE) ##模型实例化\n",
    "loss_list = []\n",
    "correct_list = []\n",
    "optimizer = optim.Adam(model.parameters()) ##调节模型参数的优化器"
   ]
  },
  {
   "cell_type": "code",
   "execution_count": 65,
   "metadata": {},
   "outputs": [
    {
     "name": "stderr",
     "output_type": "stream",
     "text": [
      "Epoch 1:: 100%|██████████| 469/469 [00:06<00:00, 73.95it/s]\n"
     ]
    },
    {
     "name": "stdout",
     "output_type": "stream",
     "text": [
      "Test Average Loss:0.0004, Accuracy:98.400\n"
     ]
    },
    {
     "name": "stderr",
     "output_type": "stream",
     "text": [
      "Epoch 2:: 100%|██████████| 469/469 [00:06<00:00, 75.05it/s]\n"
     ]
    },
    {
     "name": "stdout",
     "output_type": "stream",
     "text": [
      "Test Average Loss:0.0003, Accuracy:98.780\n"
     ]
    },
    {
     "name": "stderr",
     "output_type": "stream",
     "text": [
      "Epoch 3:: 100%|██████████| 469/469 [00:06<00:00, 77.86it/s]\n"
     ]
    },
    {
     "name": "stdout",
     "output_type": "stream",
     "text": [
      "Test Average Loss:0.0003, Accuracy:98.940\n"
     ]
    },
    {
     "name": "stderr",
     "output_type": "stream",
     "text": [
      "Epoch 4:: 100%|██████████| 469/469 [00:06<00:00, 76.94it/s]\n"
     ]
    },
    {
     "name": "stdout",
     "output_type": "stream",
     "text": [
      "Test Average Loss:0.0002, Accuracy:99.010\n"
     ]
    },
    {
     "name": "stderr",
     "output_type": "stream",
     "text": [
      "Epoch 5:: 100%|██████████| 469/469 [00:06<00:00, 76.53it/s]\n"
     ]
    },
    {
     "name": "stdout",
     "output_type": "stream",
     "text": [
      "Test Average Loss:0.0002, Accuracy:99.100\n"
     ]
    }
   ],
   "source": [
    "for epoch in range(1, EPOCHS+1):\n",
    "    train_model(model, DEVICE, train_loader, optimizer, epoch, loss_list, correct_list)\n",
    "    test_model(model,DEVICE,test_loader)\n",
    "\n"
   ]
  },
  {
   "cell_type": "code",
   "execution_count": 70,
   "metadata": {},
   "outputs": [
    {
     "data": {
      "image/png": "[encoded data removed]",
      "text/plain": [
       "<Figure size 1200x600 with 2 Axes>"
      ]
     },
     "metadata": {},
     "output_type": "display_data"
    }
   ],
   "source": [
    "import matplotlib.pyplot as plt\n",
    "plt.figure(1,figsize=(12, 6))\n",
    "plt.subplot(121)\n",
    "plt.plot(range(1, EPOCHS+1), correct_list, c='red', label=\"准确率\")\n",
    "plt.xlabel(\"epoch\", fontdict={'size': 16})\n",
    "plt.ylabel(\"准确率\", fontdict={'size': 16})\n",
    "plt.title(\"epoch-准确率\", fontdict={'size': 20})\n",
    "plt.subplot(122)\n",
    "plt.plot(range(1, EPOCHS+1), loss_list, c='red', label=\"Loss\")\n",
    "plt.xlabel(\"epoch\", fontdict={'size': 16})\n",
    "plt.ylabel(\"Loss\", fontdict={'size': 16})\n",
    "plt.title(\"epoch-loss\", fontdict={'size': 20})\n",
    "plt.show()"
   ]
  }
 ],
 "metadata": {
  "kernelspec": {
   "display_name": "pytorch",
   "language": "python",
   "name": "python3"
  },
  "language_info": {
   "codemirror_mode": {
    "name": "ipython",
    "version": 3
   },
   "file_extension": ".py",
   "mimetype": "text/x-python",
   "name": "python",
   "nbconvert_exporter": "python",
   "pygments_lexer": "ipython3",
   "version": "3.8.17"
  },
  "orig_nbformat": 4,
  "vscode": {
   "interpreter": {
    "hash": "3c920afd5e9cadd5260acd2f232a526811ef4cbf6cfe63966a0c8e5e8c6941a6"
   }
  }
 },
 "nbformat": 4,
 "nbformat_minor": 2
}
