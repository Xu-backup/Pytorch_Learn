{
 "cells": [
  {
   "cell_type": "code",
   "execution_count": 15,
   "metadata": {},
   "outputs": [
    {
     "ename": "ModuleNotFoundError",
     "evalue": "No module named 'timm'",
     "output_type": "error",
     "traceback": [
      "\u001b[1;31m---------------------------------------------------------------------------\u001b[0m",
      "\u001b[1;31mModuleNotFoundError\u001b[0m                       Traceback (most recent call last)",
      "\u001b[1;32md:\\gitbox\\Pytorch_Learn\\learn_pytorch\\timm_huggingface.ipynb 单元格 1\u001b[0m line \u001b[0;36m3\n\u001b[0;32m      <a href='vscode-notebook-cell:/d%3A/gitbox/Pytorch_Learn/learn_pytorch/timm_huggingface.ipynb#W0sZmlsZQ%3D%3D?line=0'>1</a>\u001b[0m \u001b[39mimport\u001b[39;00m \u001b[39mtorch\u001b[39;00m\n\u001b[1;32m----> <a href='vscode-notebook-cell:/d%3A/gitbox/Pytorch_Learn/learn_pytorch/timm_huggingface.ipynb#W0sZmlsZQ%3D%3D?line=2'>3</a>\u001b[0m \u001b[39mimport\u001b[39;00m \u001b[39mtimm\u001b[39;00m\n\u001b[0;32m      <a href='vscode-notebook-cell:/d%3A/gitbox/Pytorch_Learn/learn_pytorch/timm_huggingface.ipynb#W0sZmlsZQ%3D%3D?line=4'>5</a>\u001b[0m model_list \u001b[39m=\u001b[39m timm\u001b[39m.\u001b[39mlist_models()\u001b[39m#返回一个包含所有模型名称的list\u001b[39;00m\n\u001b[0;32m      <a href='vscode-notebook-cell:/d%3A/gitbox/Pytorch_Learn/learn_pytorch/timm_huggingface.ipynb#W0sZmlsZQ%3D%3D?line=5'>6</a>\u001b[0m \u001b[39mprint\u001b[39m(\u001b[39mlen\u001b[39m(model_list))\u001b[39m#964\u001b[39;00m\n",
      "\u001b[1;31mModuleNotFoundError\u001b[0m: No module named 'timm'"
     ]
    }
   ],
   "source": [
    "import torch\n",
    "\n",
    "import timm\n",
    "\n",
    "model_list = timm.list_models()#返回一个包含所有模型名称的list\n",
    "print(len(model_list))#964\n",
    "pretrain_model_list = timm.list_models(pretrained = True)#筛选出带预训练模型的\n",
    "print(len(pretrain_model_list))#770\n",
    "##使用通配符字符串来列出可用的不同 ResNet 变体\n",
    "resnet_model_list = timm.list_models('resnet34*', pretrained=True)\n",
    "\n",
    "resnet_model_list\n",
    "#model_resnet34 = timm.create_model('resnet34', pretrained=True)"
   ]
  },
  {
   "cell_type": "code",
   "execution_count": 16,
   "metadata": {},
   "outputs": [
    {
     "ename": "NameError",
     "evalue": "name 'timm' is not defined",
     "output_type": "error",
     "traceback": [
      "\u001b[1;31m---------------------------------------------------------------------------\u001b[0m",
      "\u001b[1;31mNameError\u001b[0m                                 Traceback (most recent call last)",
      "\u001b[1;32md:\\gitbox\\Pytorch_Learn\\learn_pytorch\\timm_huggingface.ipynb 单元格 2\u001b[0m line \u001b[0;36m5\n\u001b[0;32m      <a href='vscode-notebook-cell:/d%3A/gitbox/Pytorch_Learn/learn_pytorch/timm_huggingface.ipynb#W1sZmlsZQ%3D%3D?line=1'>2</a>\u001b[0m \u001b[39mimport\u001b[39;00m \u001b[39mtorch\u001b[39;00m\n\u001b[0;32m      <a href='vscode-notebook-cell:/d%3A/gitbox/Pytorch_Learn/learn_pytorch/timm_huggingface.ipynb#W1sZmlsZQ%3D%3D?line=2'>3</a>\u001b[0m x \u001b[39m=\u001b[39m torch\u001b[39m.\u001b[39mrandn([\u001b[39m1\u001b[39m, \u001b[39m3\u001b[39m, \u001b[39m224\u001b[39m, \u001b[39m224\u001b[39m])\n\u001b[1;32m----> <a href='vscode-notebook-cell:/d%3A/gitbox/Pytorch_Learn/learn_pytorch/timm_huggingface.ipynb#W1sZmlsZQ%3D%3D?line=4'>5</a>\u001b[0m model_resnet34_out10 \u001b[39m=\u001b[39m timm\u001b[39m.\u001b[39mcreate_model(\u001b[39m'\u001b[39m\u001b[39mresnet34\u001b[39m\u001b[39m'\u001b[39m, pretrained\u001b[39m=\u001b[39m\u001b[39mTrue\u001b[39;00m, num_classes\u001b[39m=\u001b[39m\u001b[39m10\u001b[39m)\n\u001b[0;32m      <a href='vscode-notebook-cell:/d%3A/gitbox/Pytorch_Learn/learn_pytorch/timm_huggingface.ipynb#W1sZmlsZQ%3D%3D?line=5'>6</a>\u001b[0m out \u001b[39m=\u001b[39m model_resnet34_out10 (x)\n\u001b[0;32m      <a href='vscode-notebook-cell:/d%3A/gitbox/Pytorch_Learn/learn_pytorch/timm_huggingface.ipynb#W1sZmlsZQ%3D%3D?line=6'>7</a>\u001b[0m \u001b[39mprint\u001b[39m(out\u001b[39m.\u001b[39mshape)\n",
      "\u001b[1;31mNameError\u001b[0m: name 'timm' is not defined"
     ]
    }
   ],
   "source": [
    "#改变结果\n",
    "import torch\n",
    "x = torch.randn([1, 3, 224, 224])\n",
    "\n",
    "model_resnet34_out10 = timm.create_model('resnet34', pretrained=True, num_classes=10)\n",
    "out = model_resnet34_out10 (x)\n",
    "print(out.shape)# Results: torch.Size([1, 10])\n"
   ]
  },
  {
   "cell_type": "code",
   "execution_count": null,
   "metadata": {},
   "outputs": [
    {
     "name": "stderr",
     "output_type": "stream",
     "text": [
      "c:\\Users\\Xu\\anaconda3\\envs\\pytorch\\lib\\site-packages\\tqdm\\auto.py:22: TqdmWarning: IProgress not found. Please update jupyter and ipywidgets. See https://ipywidgets.readthedocs.io/en/stable/user_install.html\n",
      "  from .autonotebook import tqdm as notebook_tqdm\n"
     ]
    },
    {
     "ename": "ModuleNotFoundError",
     "evalue": "No module named 'transformers'",
     "output_type": "error",
     "traceback": [
      "\u001b[1;31m---------------------------------------------------------------------------\u001b[0m",
      "\u001b[1;31mModuleNotFoundError\u001b[0m                       Traceback (most recent call last)",
      "\u001b[1;32md:\\gitbox\\Pytorch_Learn\\learn_pytorch\\timm_huggingface.ipynb 单元格 4\u001b[0m line \u001b[0;36m4\n\u001b[0;32m      <a href='vscode-notebook-cell:/d%3A/gitbox/Pytorch_Learn/learn_pytorch/timm_huggingface.ipynb#W2sZmlsZQ%3D%3D?line=0'>1</a>\u001b[0m \u001b[39m##使用hugging face创建一个模型\u001b[39;00m\n\u001b[0;32m      <a href='vscode-notebook-cell:/d%3A/gitbox/Pytorch_Learn/learn_pytorch/timm_huggingface.ipynb#W2sZmlsZQ%3D%3D?line=1'>2</a>\u001b[0m \u001b[39mimport\u001b[39;00m \u001b[39mtorch\u001b[39;00m\n\u001b[1;32m----> <a href='vscode-notebook-cell:/d%3A/gitbox/Pytorch_Learn/learn_pytorch/timm_huggingface.ipynb#W2sZmlsZQ%3D%3D?line=3'>4</a>\u001b[0m \u001b[39mfrom\u001b[39;00m \u001b[39mtransformers\u001b[39;00m \u001b[39mimport\u001b[39;00m ViTConfig, ViTModel\n\u001b[0;32m      <a href='vscode-notebook-cell:/d%3A/gitbox/Pytorch_Learn/learn_pytorch/timm_huggingface.ipynb#W2sZmlsZQ%3D%3D?line=5'>6</a>\u001b[0m \u001b[39m# Initializing a ViT vit-base-patch16-224 style configuration\u001b[39;00m\n\u001b[0;32m      <a href='vscode-notebook-cell:/d%3A/gitbox/Pytorch_Learn/learn_pytorch/timm_huggingface.ipynb#W2sZmlsZQ%3D%3D?line=6'>7</a>\u001b[0m configuration \u001b[39m=\u001b[39m ViTConfig()\n",
      "\u001b[1;31mModuleNotFoundError\u001b[0m: No module named 'transformers'"
     ]
    }
   ],
   "source": [
    "##使用hugging face创建一个模型\n",
    "import torch\n",
    "\n",
    "from transformers import ViTConfig, ViTModel\n",
    "\n",
    "# Initializing a ViT vit-base-patch16-224 style configuration\n",
    "configuration = ViTConfig()\n",
    "configuration.image_size = 224\n",
    "# Initializing a model (with random weights) from the vit-base-patch16-224 style configuration\n",
    "\n",
    "model = ViTModel(configuration)\n",
    "# Accessing the model configuration\n",
    "\n",
    "config = model.config\n",
    "a = torch.randn([10,3,224,224])\n",
    "b = model(a)\n",
    "b = b.get('last_hidden_state').shape\n",
    "print(type(model))\n",
    "print(b)\n",
    "print(configuration)"
   ]
  },
  {
   "cell_type": "code",
   "execution_count": null,
   "metadata": {},
   "outputs": [
    {
     "name": "stderr",
     "output_type": "stream",
     "text": [
      "c:\\Users\\Xu\\anaconda3\\envs\\pytorch\\lib\\site-packages\\tqdm\\auto.py:22: TqdmWarning: IProgress not found. Please update jupyter and ipywidgets. See https://ipywidgets.readthedocs.io/en/stable/user_install.html\n",
      "  from .autonotebook import tqdm as notebook_tqdm\n"
     ]
    },
    {
     "name": "stdout",
     "output_type": "stream",
     "text": [
      "Predicted class: Egyptian cat\n"
     ]
    }
   ],
   "source": [
    "##使用hugging face的预训练模型\n",
    "\n",
    "from transformers import ViTImageProcessor, ViTForImageClassification\n",
    "from PIL import Image\n",
    "import torch\n",
    "\n",
    "image = Image.open('Vit\\\\000000039769.jpg')\n",
    "#processor = ViTImageProcessor.from_pretrained('Vit')\n",
    "processor = ViTImageProcessor.from_pretrained('Vit')\n",
    "model = ViTForImageClassification.from_pretrained('Vit')\n",
    "\n",
    "inputs = processor(images=image, return_tensors=\"pt\")\n",
    "outputs = model(**inputs)\n",
    "logits = outputs.logits\n",
    "# model predicts one of the 1000 ImageNet classes\n",
    "predicted_class_idx = logits.argmax(-1).item()\n",
    "print(\"Predicted class:\", model.config.id2label[predicted_class_idx])\n"
   ]
  },
  {
   "cell_type": "code",
   "execution_count": 18,
   "metadata": {},
   "outputs": [
    {
     "name": "stdout",
     "output_type": "stream",
     "text": [
      "Predicted class: ['tray', 'tray', 'tray', 'maze, labyrinth', 'tray', 'tray', 'tray', 'tray', 'tray', 'tray']\n"
     ]
    }
   ],
   "source": [
    "from transformers import ViTImageProcessor, ViTForImageClassification\n",
    "from PIL import Image\n",
    "import requests\n",
    "import torch\n",
    "import numpy as np\n",
    "#url = 'http://images.cocodataset.org/val2017/000000039769.jpg'\n",
    "#image = Image.open(requests.get(url, stream=True).raw)\n",
    "\n",
    "\n",
    "processor = ViTImageProcessor.from_pretrained('vit')\n",
    "model = ViTForImageClassification.from_pretrained('vit')\n",
    "\n",
    "#inputs = processor(images=image, return_tensors=\"pt\")\n",
    "inputs = torch.randn([10,3,224,224])\n",
    "outputs = model(inputs)\n",
    "logits = outputs.logits\n",
    "# model predicts one of the 1000 ImageNet classes\n",
    "predicted_class_idx = logits.argmax(-1)\n",
    "l = [model.config.id2label[i.item()] for i in predicted_class_idx]\n",
    "print(\"Predicted class:\",l )\n",
    "\n"
   ]
  }
 ],
 "metadata": {
  "kernelspec": {
   "display_name": "Python 3",
   "language": "python",
   "name": "python3"
  },
  "language_info": {
   "codemirror_mode": {
    "name": "ipython",
    "version": 3
   },
   "file_extension": ".py",
   "mimetype": "text/x-python",
   "name": "python",
   "nbconvert_exporter": "python",
   "pygments_lexer": "ipython3",
   "version": "3.8.17"
  }
 },
 "nbformat": 4,
 "nbformat_minor": 2
}
