{
 "cells": [
  {
   "cell_type": "code",
   "execution_count": 32,
   "metadata": {},
   "outputs": [
    {
     "name": "stdout",
     "output_type": "stream",
     "text": [
      "tensor([ 6., 12., 18.])\n",
      "(tensor([2., 4., 6.]),)\n",
      "tensor([-1.0743, -0.7277], grad_fn=<AddBackward0>)\n",
      "(tensor([ 0.6039,  0.2139, -0.9551]),)\n"
     ]
    }
   ],
   "source": [
    "import torch\n",
    "\n",
    "#backward:与tensor.backward效果一样\n",
    "#计算计算图中叶子节点的梯度\n",
    "x = torch.tensor([1.,2.,3.],requires_grad=True)\n",
    "out = x.pow(2).mul(3)\n",
    "out = out.sum()\n",
    "torch.autograd.backward(out)\n",
    "print(x.grad)\n",
    "\n",
    "#grad: 计算输出对输入的各自梯度的综合\n",
    "#grad_outputs参数理解为在导数外的乘积,必须的参数\n",
    "\n",
    "x =  torch.tensor([1.,2.,3.],requires_grad=True)\n",
    "y = x.pow(2)\n",
    "grad_output = torch.ones_like(y)  # 初始化梯度\n",
    "\n",
    "z = torch.autograd.grad((y,), (x,), grad_outputs=grad_output)\n",
    "print(z)\n",
    "\n",
    "x =  torch.tensor([1.,2.,3.],requires_grad=True)\n",
    "line = torch.nn.Linear(3,2)\n",
    "y = line(x)\n",
    "grad_output = torch.ones_like(y)  # 初始化梯度\n",
    "\n",
    "z = torch.autograd.grad((y,), (x,), grad_outputs=grad_output)\n",
    "print(z)"
   ]
  },
  {
   "cell_type": "markdown",
   "metadata": {},
   "source": [
    "<font face = '黑体' font size = 5>Context method mixins\n"
   ]
  },
  {
   "cell_type": "code",
   "execution_count": null,
   "metadata": {},
   "outputs": [],
   "source": [
    "# ctx对象可以调用的方法\n",
    "\n",
    "#ctx.mark_non_differentiable()\n",
    "#标记前向过程中output不需要计算梯度的部分\n",
    "class Func(Function):\n",
    "    @staticmethod\n",
    "    def forward(ctx, x):\n",
    "        sorted, idx = x.sort()\n",
    "        ctx.mark_non_differentiable(idx)\n",
    "        ctx.save_for_backward(x, idx)\n",
    "        return sorted, idx\n",
    "    @staticmethod\n",
    "    @once_differentiable\n",
    "    def backward(ctx, g1, g2):  # still need to accept g2\n",
    "        x, idx = ctx.saved_tensors\n",
    "        grad_input = torch.zeros_like(x)\n",
    "        grad_input.index_add_(0, idx, g1)\n",
    "        return grad_input\n",
    "    \n",
    "#ctx.save_for_backward()\n",
    "#保存在反向过程中需要用到的tensor\n",
    "#非tensor可以直接保存为变量\n",
    "#在backward中使用ctx.saved_tensors调用\n",
    "class Func(Function):\n",
    "    @staticmethod\n",
    "    def forward(ctx, x: torch.Tensor, y: torch.Tensor, z: int):\n",
    "        w = x * z\n",
    "        out = x * y + y * z + w * y\n",
    "        ctx.save_for_backward(x, y, w, out)\n",
    "        ctx.z = z  # z is not a tensor\n",
    "        return out\n",
    "    @staticmethod\n",
    "    @once_differentiable\n",
    "    def backward(ctx, grad_out):\n",
    "        x, y, w, out = ctx.saved_tensors\n",
    "        z = ctx.z\n",
    "        gx = grad_out * (y + y * z)\n",
    "        gy = grad_out * (x + z + w)\n",
    "        gz = None\n",
    "        return gx, gy, gz\n",
    "a = torch.tensor(1., requires_grad=True, dtype=torch.double)\n",
    "b = torch.tensor(2., requires_grad=True, dtype=torch.double)\n",
    "c = 4\n",
    "d = Func.apply(a, b, c)"
   ]
  }
 ],
 "metadata": {
  "kernelspec": {
   "display_name": "Python 3",
   "language": "python",
   "name": "python3"
  },
  "language_info": {
   "codemirror_mode": {
    "name": "ipython",
    "version": 3
   },
   "file_extension": ".py",
   "mimetype": "text/x-python",
   "name": "python",
   "nbconvert_exporter": "python",
   "pygments_lexer": "ipython3",
   "version": "3.8.17"
  }
 },
 "nbformat": 4,
 "nbformat_minor": 2
}
