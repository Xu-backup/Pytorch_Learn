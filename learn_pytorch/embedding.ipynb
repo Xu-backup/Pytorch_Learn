{
 "cells": [
  {
   "cell_type": "code",
   "execution_count": 2,
   "metadata": {},
   "outputs": [
    {
     "data": {
      "text/plain": [
       "Parameter containing:\n",
       "tensor([[ 0.3297, -0.2363,  1.1949],\n",
       "        [ 0.7753, -0.8578,  0.6417],\n",
       "        [ 0.3704, -1.3876,  1.1840],\n",
       "        [ 0.1575, -1.1846,  0.4829],\n",
       "        [ 0.5767, -1.0877, -0.0936],\n",
       "        [ 0.3862, -0.9740,  1.3367],\n",
       "        [-0.6985, -0.1075,  0.2940],\n",
       "        [-0.8649,  0.3607, -0.7779],\n",
       "        [-0.2729, -1.3126,  2.0457],\n",
       "        [ 1.4310, -1.2055,  0.2066]], requires_grad=True)"
      ]
     },
     "execution_count": 2,
     "metadata": {},
     "output_type": "execute_result"
    }
   ],
   "source": [
    "import torch\n",
    "import torch.nn as nn\n",
    "import torch.nn.functional as F\n",
    "embedding = nn.Embedding(10,3)\n",
    "embedding.weight"
   ]
  },
  {
   "cell_type": "code",
   "execution_count": 31,
   "metadata": {},
   "outputs": [
    {
     "data": {
      "text/plain": [
       "tensor([[-1.0985, -1.3786,  1.0379],\n",
       "        [-0.9161,  0.5010,  0.3951],\n",
       "        [ 0.1891, -1.6724,  0.0869],\n",
       "        [-1.8284,  0.4542,  0.6746]], grad_fn=<MmBackward0>)"
      ]
     },
     "execution_count": 31,
     "metadata": {},
     "output_type": "execute_result"
    }
   ],
   "source": [
    "\n",
    "index = torch.tensor([1,2,4,7])\n",
    "one_hot = F.one_hot(index, num_classes=10)\n",
    "torch.mm(one_hot.to(torch.float32),embedding.weight.to(torch.float32))"
   ]
  },
  {
   "cell_type": "code",
   "execution_count": 8,
   "metadata": {},
   "outputs": [
    {
     "data": {
      "text/plain": [
       "torch.Size([2, 4, 3])"
      ]
     },
     "execution_count": 8,
     "metadata": {},
     "output_type": "execute_result"
    }
   ],
   "source": [
    "##对非one-hot编码的embedding\n",
    "\n",
    "embedding = nn.Embedding(5,3)\n",
    "\n",
    "index = torch.tensor([[1,2,4,4],\n",
    "                      [2,4,3,3]])\n",
    "\n",
    "output = embedding(index)\n",
    "output.shape"
   ]
  },
  {
   "cell_type": "code",
   "execution_count": 7,
   "metadata": {},
   "outputs": [
    {
     "name": "stdout",
     "output_type": "stream",
     "text": [
      "tensor([[ 0.7803,  0.4898,  0.5752, -0.1853, -0.7949],\n",
      "        [-1.9149,  0.9856, -1.1941,  0.4726, -0.9358]],\n",
      "       grad_fn=<EmbeddingBackward0>)\n",
      "tensor([[-1.1205,  0.3835,  1.0347,  0.2198, -1.8546],\n",
      "        [-0.4059, -0.7593,  0.1116,  2.7852,  0.2515],\n",
      "        [ 0.7803,  0.4898,  0.5752, -0.1853, -0.7949],\n",
      "        [-2.0266, -1.8509,  1.1672, -1.2701, -0.8621]],\n",
      "       grad_fn=<EmbeddingBackward0>)\n"
     ]
    }
   ],
   "source": [
    "text1 = \"hello world\"\n",
    "text2 = \"This is hello text\"\n",
    "#创建词汇表\n",
    "vocab = set(text1.split()+text2.split())\n",
    "\n",
    "embedding_dim = 5\n",
    "embedding = nn.Embedding(len(vocab), embedding_dim)\n",
    "\n",
    "\n",
    "# 将文本转换为索引序列\n",
    "indices_1 = torch.tensor([list(vocab).index(word) for word in text1.split()])\n",
    "indices_2 = torch.tensor([list(vocab).index(word) for word in text2.split()])\n",
    "\n",
    "embedding_text1 = embedding(indices_1)\n",
    "embedding_text2 = embedding(indices_2)\n",
    "\n",
    "print(embedding_text1)\n",
    "print(embedding_text2)"
   ]
  },
  {
   "cell_type": "code",
   "execution_count": 8,
   "metadata": {},
   "outputs": [
    {
     "data": {
      "text/plain": [
       "'xu'"
      ]
     },
     "execution_count": 8,
     "metadata": {},
     "output_type": "execute_result"
    }
   ],
   "source": [
    "class student:\n",
    "    def __init__(self,lastname) -> None:\n",
    "        self.lastname = lastname\n",
    "    @property\n",
    "    def get(self):\n",
    "        return self.lastname\n",
    "    \n",
    "    \n",
    "a = student(\"xu\")\n",
    "a.get"
   ]
  }
 ],
 "metadata": {
  "kernelspec": {
   "display_name": "Python 3",
   "language": "python",
   "name": "python3"
  },
  "language_info": {
   "codemirror_mode": {
    "name": "ipython",
    "version": 3
   },
   "file_extension": ".py",
   "mimetype": "text/x-python",
   "name": "python",
   "nbconvert_exporter": "python",
   "pygments_lexer": "ipython3",
   "version": "3.8.17"
  }
 },
 "nbformat": 4,
 "nbformat_minor": 2
}
