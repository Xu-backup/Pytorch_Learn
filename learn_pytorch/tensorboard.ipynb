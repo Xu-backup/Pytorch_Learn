{
 "cells": [
  {
   "cell_type": "code",
   "execution_count": 2,
   "metadata": {},
   "outputs": [],
   "source": [
    "from torch.utils.tensorboard import SummaryWriter\n",
    "import os\n",
    "from PIL import Image\n",
    "import numpy as np\n",
    "# tensorboard:用于记录训练过程的工具"
   ]
  },
  {
   "cell_type": "code",
   "execution_count": 3,
   "metadata": {},
   "outputs": [
    {
     "name": "stdout",
     "output_type": "stream",
     "text": [
      "(512, 768, 3)\n"
     ]
    }
   ],
   "source": [
    "writer = SummaryWriter('logs') #log实例化\n",
    "\n",
    "for i in range(10):      ##log文件中写入折线图\n",
    "    writer.add_scalar('y=x',i+1,i)\n",
    "\n",
    "\n",
    "img_path = \"D:\\\\Source Code\\\\PyTorch\\\\learn_pytorch\\\\data\\\\train\\\\ants\\\\0013035.jpg\"\n",
    "img_PIL = Image.open(img_path)\n",
    "img_array = np.array(img_PIL)\n",
    "print(img_array.shape)\n",
    "\n",
    "# writer.add_image()  写入图片 类型torch.tensor numpy.array\n",
    "writer.add_image('train', img_array, 1, dataformats='HWC')\n",
    "\n",
    "writer.close()\n",
    "\n",
    "# tensorboard --logdir=logs --port=6008"
   ]
  }
 ],
 "metadata": {
  "kernelspec": {
   "display_name": "pytorch",
   "language": "python",
   "name": "python3"
  },
  "language_info": {
   "codemirror_mode": {
    "name": "ipython",
    "version": 3
   },
   "file_extension": ".py",
   "mimetype": "text/x-python",
   "name": "python",
   "nbconvert_exporter": "python",
   "pygments_lexer": "ipython3",
   "version": "3.8.15 (default, Nov 24 2022, 14:38:14) [MSC v.1916 64 bit (AMD64)]"
  },
  "orig_nbformat": 4,
  "vscode": {
   "interpreter": {
    "hash": "3c920afd5e9cadd5260acd2f232a526811ef4cbf6cfe63966a0c8e5e8c6941a6"
   }
  }
 },
 "nbformat": 4,
 "nbformat_minor": 2
}
