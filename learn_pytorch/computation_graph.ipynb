{
 "cells": [
  {
   "cell_type": "code",
   "execution_count": 1,
   "metadata": {},
   "outputs": [],
   "source": [
    "import torch\n",
    "import numpy\n",
    "from IPython.display import Image"
   ]
  },
  {
   "cell_type": "code",
   "execution_count": 2,
   "metadata": {},
   "outputs": [
    {
     "name": "stdout",
     "output_type": "stream",
     "text": [
      "tensor(3.)\n",
      "None\n",
      "True\n",
      "True\n"
     ]
    }
   ],
   "source": [
    "x = torch.tensor(3.,requires_grad=True)\n",
    "print(x.data)## 张量x的值\n",
    "print(x.grad)## 张量x的梯度\n",
    "print(x.is_leaf)## 张量x在计算图中是否是叶子\n",
    "print(x.requires_grad)##  张量是否计算梯度"
   ]
  },
  {
   "cell_type": "code",
   "execution_count": 3,
   "metadata": {},
   "outputs": [
    {
     "name": "stdout",
     "output_type": "stream",
     "text": [
      "tensor(64.)\n",
      "None\n",
      "False\n",
      "True\n"
     ]
    },
    {
     "name": "stderr",
     "output_type": "stream",
     "text": [
      "C:\\Users\\23116\\AppData\\Local\\Temp\\ipykernel_8136\\3298768558.py:3: UserWarning: The .grad attribute of a Tensor that is not a leaf Tensor is being accessed. Its .grad attribute won't be populated during autograd.backward(). If you indeed want the .grad field to be populated for a non-leaf Tensor, use .retain_grad() on the non-leaf Tensor. If you access the non-leaf Tensor by mistake, make sure you access the leaf Tensor instead. See github.com/pytorch/pytorch/pull/30531 for more informations. (Triggered internally at C:\\cb\\pytorch_1000000000000\\work\\build\\aten\\src\\ATen/core/TensorBody.h:491.)\n",
      "  print(y.grad)## 张量x的梯度\n"
     ]
    }
   ],
   "source": [
    "y = 6*x**2+2*x+4  ##y依赖于x\n",
    "print(y.data)## 张量x的值\n",
    "print(y.grad)## 张量x的梯度\n",
    "print(y.is_leaf)## 张量x在计算图中是否是叶子\n",
    "print(y.requires_grad)##  张量是否计算梯度"
   ]
  },
  {
   "cell_type": "code",
   "execution_count": 4,
   "metadata": {},
   "outputs": [],
   "source": [
    "y.backward()##反向传播"
   ]
  },
  {
   "cell_type": "code",
   "execution_count": 6,
   "metadata": {},
   "outputs": [
    {
     "name": "stdout",
     "output_type": "stream",
     "text": [
      "tensor(38.)\n",
      "None\n"
     ]
    },
    {
     "name": "stderr",
     "output_type": "stream",
     "text": [
      "C:\\Users\\23116\\AppData\\Local\\Temp\\ipykernel_8136\\3837045627.py:2: UserWarning: The .grad attribute of a Tensor that is not a leaf Tensor is being accessed. Its .grad attribute won't be populated during autograd.backward(). If you indeed want the .grad field to be populated for a non-leaf Tensor, use .retain_grad() on the non-leaf Tensor. If you access the non-leaf Tensor by mistake, make sure you access the leaf Tensor instead. See github.com/pytorch/pytorch/pull/30531 for more informations. (Triggered internally at C:\\cb\\pytorch_1000000000000\\work\\build\\aten\\src\\ATen/core/TensorBody.h:491.)\n",
      "  print(y.grad)## 张量y的梯度  y不是叶子节点\n"
     ]
    }
   ],
   "source": [
    "print(x.grad)## 张量x的梯度\n",
    "print(y.grad)## 张量y的梯度  y不是叶子节点None"
   ]
  },
  {
   "cell_type": "code",
   "execution_count": 7,
   "metadata": {},
   "outputs": [
    {
     "name": "stdout",
     "output_type": "stream",
     "text": [
      "tensor(43.)\n",
      "tensor(20.)\n"
     ]
    }
   ],
   "source": [
    "##偏导\n",
    "u = torch.tensor(3.,requires_grad=True)\n",
    "v = torch.tensor(4.,requires_grad=True)\n",
    "f = u**3+v**2+4*u*v\n",
    "f.backward()\n",
    "print(u.grad)  ##f 关于 u的偏导\n",
    "print(v.grad)  ##f 关于 v的偏导"
   ]
  },
  {
   "cell_type": "code",
   "execution_count": 19,
   "metadata": {},
   "outputs": [
    {
     "name": "stdout",
     "output_type": "stream",
     "text": [
      "tensor([0.1966, 0.1050, 0.0452])\n"
     ]
    }
   ],
   "source": [
    "###.data()    修改不会报错但是存在问题\n",
    "###.detach()  修改数据会报错\n",
    "\n",
    "a = torch.tensor([1.,2.,3.],requires_grad=True)\n",
    "out = a.sigmoid()\n",
    "#data = out.data          ##未发生报错,且梯度错误\n",
    "data = out.detach()   ##报错发生了一次inplace 导致反向传播错误\n",
    "data.zero_()\n",
    "out.sum().backward()\n",
    "print(a.grad)  "
   ]
  },
  {
   "cell_type": "code",
   "execution_count": 12,
   "metadata": {},
   "outputs": [
    {
     "ename": "RuntimeError",
     "evalue": "one of the variables needed for gradient computation has been modified by an inplace operation: [torch.FloatTensor [1, 1]], which is output 0 of struct torch::autograd::CopySlices, is at version 1; expected version 0 instead. Hint: enable anomaly detection to find the operation that failed to compute its gradient, with torch.autograd.set_detect_anomaly(True).",
     "output_type": "error",
     "traceback": [
      "\u001b[1;31m---------------------------------------------------------------------------\u001b[0m",
      "\u001b[1;31mRuntimeError\u001b[0m                              Traceback (most recent call last)",
      "\u001b[1;32md:\\GitBox\\Pytorch_Learn\\learn_pytorch\\computation_graph.ipynb 单元格 8\u001b[0m line \u001b[0;36m9\n\u001b[0;32m      <a href='vscode-notebook-cell:/d%3A/GitBox/Pytorch_Learn/learn_pytorch/computation_graph.ipynb#X10sZmlsZQ%3D%3D?line=6'>7</a>\u001b[0m f \u001b[39m=\u001b[39m torch\u001b[39m.\u001b[39mmatmul(d,w2)\n\u001b[0;32m      <a href='vscode-notebook-cell:/d%3A/GitBox/Pytorch_Learn/learn_pytorch/computation_graph.ipynb#X10sZmlsZQ%3D%3D?line=7'>8</a>\u001b[0m d[:] \u001b[39m=\u001b[39m \u001b[39m0\u001b[39m\n\u001b[1;32m----> <a href='vscode-notebook-cell:/d%3A/GitBox/Pytorch_Learn/learn_pytorch/computation_graph.ipynb#X10sZmlsZQ%3D%3D?line=8'>9</a>\u001b[0m f\u001b[39m.\u001b[39;49mbackward()\n",
      "File \u001b[1;32md:\\Anaconda\\envs\\py3.8\\lib\\site-packages\\torch\\_tensor.py:487\u001b[0m, in \u001b[0;36mTensor.backward\u001b[1;34m(self, gradient, retain_graph, create_graph, inputs)\u001b[0m\n\u001b[0;32m    477\u001b[0m \u001b[39mif\u001b[39;00m has_torch_function_unary(\u001b[39mself\u001b[39m):\n\u001b[0;32m    478\u001b[0m     \u001b[39mreturn\u001b[39;00m handle_torch_function(\n\u001b[0;32m    479\u001b[0m         Tensor\u001b[39m.\u001b[39mbackward,\n\u001b[0;32m    480\u001b[0m         (\u001b[39mself\u001b[39m,),\n\u001b[1;32m   (...)\u001b[0m\n\u001b[0;32m    485\u001b[0m         inputs\u001b[39m=\u001b[39minputs,\n\u001b[0;32m    486\u001b[0m     )\n\u001b[1;32m--> 487\u001b[0m torch\u001b[39m.\u001b[39;49mautograd\u001b[39m.\u001b[39;49mbackward(\n\u001b[0;32m    488\u001b[0m     \u001b[39mself\u001b[39;49m, gradient, retain_graph, create_graph, inputs\u001b[39m=\u001b[39;49minputs\n\u001b[0;32m    489\u001b[0m )\n",
      "File \u001b[1;32md:\\Anaconda\\envs\\py3.8\\lib\\site-packages\\torch\\autograd\\__init__.py:200\u001b[0m, in \u001b[0;36mbackward\u001b[1;34m(tensors, grad_tensors, retain_graph, create_graph, grad_variables, inputs)\u001b[0m\n\u001b[0;32m    195\u001b[0m     retain_graph \u001b[39m=\u001b[39m create_graph\n\u001b[0;32m    197\u001b[0m \u001b[39m# The reason we repeat same the comment below is that\u001b[39;00m\n\u001b[0;32m    198\u001b[0m \u001b[39m# some Python versions print out the first line of a multi-line function\u001b[39;00m\n\u001b[0;32m    199\u001b[0m \u001b[39m# calls in the traceback and some print out the last line\u001b[39;00m\n\u001b[1;32m--> 200\u001b[0m Variable\u001b[39m.\u001b[39;49m_execution_engine\u001b[39m.\u001b[39;49mrun_backward(  \u001b[39m# Calls into the C++ engine to run the backward pass\u001b[39;49;00m\n\u001b[0;32m    201\u001b[0m     tensors, grad_tensors_, retain_graph, create_graph, inputs,\n\u001b[0;32m    202\u001b[0m     allow_unreachable\u001b[39m=\u001b[39;49m\u001b[39mTrue\u001b[39;49;00m, accumulate_grad\u001b[39m=\u001b[39;49m\u001b[39mTrue\u001b[39;49;00m)\n",
      "\u001b[1;31mRuntimeError\u001b[0m: one of the variables needed for gradient computation has been modified by an inplace operation: [torch.FloatTensor [1, 1]], which is output 0 of struct torch::autograd::CopySlices, is at version 1; expected version 0 instead. Hint: enable anomaly detection to find the operation that failed to compute its gradient, with torch.autograd.set_detect_anomaly(True)."
     ]
    }
   ],
   "source": [
    "###x\n",
    "###w1 -> d\n",
    "###      w2 -> f\n",
    "\n",
    "x = torch.FloatTensor([[1.,2.]])\n",
    "w1 = torch.FloatTensor([[2.],[1.]])\n",
    "w2 = torch.FloatTensor([3.])\n",
    "w1.requires_grad = True\n",
    "w2.requires_grad = True\n",
    "d = torch.matmul(x,w1)\n",
    "f = torch.matmul(d,w2)   ##前向传播计算后d值发生改变，报错\n",
    "d[:] = 0    #求梯度阶段用到的张量不能使用inplace操作\n",
    "f.backward()"
   ]
  }
 ],
 "metadata": {
  "kernelspec": {
   "display_name": "Python 3",
   "language": "python",
   "name": "python3"
  },
  "language_info": {
   "codemirror_mode": {
    "name": "ipython",
    "version": 3
   },
   "file_extension": ".py",
   "mimetype": "text/x-python",
   "name": "python",
   "nbconvert_exporter": "python",
   "pygments_lexer": "ipython3",
   "version": "3.8.17"
  }
 },
 "nbformat": 4,
 "nbformat_minor": 2
}
