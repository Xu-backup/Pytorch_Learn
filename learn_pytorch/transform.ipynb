{
 "cells": [
  {
   "cell_type": "code",
   "execution_count": 1,
   "metadata": {},
   "outputs": [],
   "source": [
    "#transform 用于对图片进行处理\n",
    "from torchvision import transforms\n",
    "from torch.utils.tensorboard import SummaryWriter\n",
    "from PIL import Image\n",
    "import cv2\n",
    "import numpy as np\n",
    "\n",
    "#python中 tensor数据类型 通过transforms.ToTensor()看\n",
    "#1.transform的使用\n",
    "#2.tensor数据类型\n",
    "\n",
    "img_path = \"D:\\\\Source Code\\\\PyTorch\\\\learn_pytorch\\\\data\\\\train\\\\ants\\\\0013035.jpg\"\n",
    "img_np = cv2.imread(img_path)\n",
    "img_PIL = Image.open(img_path)\n",
    "\n",
    "#从transform中选择一个类实例化，之后调用类的方法\n",
    "tensor_trans = transforms.ToTensor()\n",
    "tensor_img = tensor_trans(img_np)"
   ]
  },
  {
   "cell_type": "code",
   "execution_count": 5,
   "metadata": {},
   "outputs": [
    {
     "data": {
      "text/plain": [
       "'writer.add_image(\"resize2\",img_np,0,dataformats=\"HWC\")\\nwriter.add_image(\"resize2\",img_resize2,1)\\nwriter.close()'"
      ]
     },
     "execution_count": 5,
     "metadata": {},
     "output_type": "execute_result"
    }
   ],
   "source": [
    "#useful transforms\n",
    "\n",
    "#__call__类内置函数，实例()直接调用\n",
    "\n",
    "\n",
    "#Normalize 把tensor数据类型进行归一化 通过均值和标准差归一化每个通道\n",
    "trans_norm = transforms.Normalize([0.5,0.5,0.5],[0.5,0.5,0.5])\n",
    "img_norm = trans_norm(tensor_img)\n",
    "\n",
    "#Resize 将PIL imgae或者Tensor尺寸进行变换\n",
    "trans_resize = transforms.Resize((256,256))\n",
    "img_resize = trans_resize(img_PIL)\n",
    "img_resize = tensor_trans(img_resize)\n",
    "\n",
    "'''writer = SummaryWriter('logs')\n",
    "writer.add_image(\"resize\",img_resize,0)\n",
    "writer.close()'''\n",
    "\n",
    "#transforms.RandomCrop() 随机裁剪(h,w) int就是裁剪一个正方形\n",
    "trans_random = transforms.RandomCrop(512)\n",
    "img_random = trans_random(img_PIL)\n",
    "\n",
    "\n",
    "#compose 将一系列transform操作整合起来 参数是一个列表\n",
    "PIL_Resize_Tensor = transforms.Compose([\n",
    "    transforms.Resize(256),\n",
    "    transforms.ToTensor(),\n",
    "]\n",
    ")\n",
    "img_resize2 = PIL_Resize_Tensor(img_PIL)\n",
    "\n",
    "'''writer.add_image(\"resize2\",img_np,0,dataformats=\"HWC\")\n",
    "writer.add_image(\"resize2\",img_resize2,1)\n",
    "writer.close()'''\n",
    "\n",
    "\n"
   ]
  }
 ],
 "metadata": {
  "kernelspec": {
   "display_name": "pytorch",
   "language": "python",
   "name": "python3"
  },
  "language_info": {
   "codemirror_mode": {
    "name": "ipython",
    "version": 3
   },
   "file_extension": ".py",
   "mimetype": "text/x-python",
   "name": "python",
   "nbconvert_exporter": "python",
   "pygments_lexer": "ipython3",
   "version": "3.8.15 (default, Nov 24 2022, 14:38:14) [MSC v.1916 64 bit (AMD64)]"
  },
  "orig_nbformat": 4,
  "vscode": {
   "interpreter": {
    "hash": "3c920afd5e9cadd5260acd2f232a526811ef4cbf6cfe63966a0c8e5e8c6941a6"
   }
  }
 },
 "nbformat": 4,
 "nbformat_minor": 2
}
