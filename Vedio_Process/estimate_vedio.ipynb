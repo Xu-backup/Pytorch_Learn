{
 "cells": [
  {
   "cell_type": "code",
   "execution_count": 22,
   "metadata": {},
   "outputs": [],
   "source": [
    "import numpy as np\n",
    "import os\n",
    "import cv2\n",
    "import scipy.io as scio"
   ]
  },
  {
   "cell_type": "code",
   "execution_count": 26,
   "metadata": {},
   "outputs": [],
   "source": [
    "result_dir = \"./Result_Video/\"\n",
    "if not os.path.exists(result_dir):\n",
    "    os.mkdir(result_dir)\n",
    "Gnum = 10\n",
    "frame_num = 8\n",
    "inter = 1\n",
    "\n",
    "#读取编码的矩阵\n",
    "mask = scio.loadmat('./mat/mask.mat')\n",
    "mask = mask[\"f\"]\n",
    "\n",
    "\n",
    "output = np.zeros((128+inter*(frame_num-1),128))\n",
    "\n",
    "for i in range(Gnum):\n",
    "    output = np.zeros((128+inter*(frame_num-1),128))\n",
    "    temp_dir_name = os.path.join(result_dir, f\"group {int(i)}\")\n",
    "    for g in range(frame_num):\n",
    "        img_path = os.path.join(temp_dir_name,f\"{g}.jpg\")\n",
    "        img = cv2.imread(img_path)\n",
    "        img = cv2.cvtColor(img, cv2.COLOR_BGR2GRAY)\n",
    "        img = img*mask\n",
    "        output[g*inter:g*inter+128, 0:128] += img\n",
    "    \n",
    "    ymax = np.max(output)\n",
    "    ymin = np.min(output)\n",
    "    output = (output-ymin)/(ymax-ymin)\n",
    "    path = os.path.join(temp_dir_name,f\"E{i}.jpg\")\n",
    "    cv2.imwrite(path, output)"
   ]
  },
  {
   "cell_type": "code",
   "execution_count": null,
   "metadata": {},
   "outputs": [],
   "source": []
  }
 ],
 "metadata": {
  "kernelspec": {
   "display_name": "pytorch",
   "language": "python",
   "name": "python3"
  },
  "language_info": {
   "codemirror_mode": {
    "name": "ipython",
    "version": 3
   },
   "file_extension": ".py",
   "mimetype": "text/x-python",
   "name": "python",
   "nbconvert_exporter": "python",
   "pygments_lexer": "ipython3",
   "version": "3.8.15"
  },
  "orig_nbformat": 4,
  "vscode": {
   "interpreter": {
    "hash": "3c920afd5e9cadd5260acd2f232a526811ef4cbf6cfe63966a0c8e5e8c6941a6"
   }
  }
 },
 "nbformat": 4,
 "nbformat_minor": 2
}
