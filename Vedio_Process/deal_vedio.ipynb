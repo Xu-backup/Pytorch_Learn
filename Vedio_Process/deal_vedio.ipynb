{
 "cells": [
  {
   "cell_type": "code",
   "execution_count": 11,
   "metadata": {},
   "outputs": [],
   "source": [
    "import cv2\n",
    "import os"
   ]
  },
  {
   "cell_type": "code",
   "execution_count": 12,
   "metadata": {},
   "outputs": [],
   "source": [
    "def frame_process(img):\n",
    "    img = cv2.cvtColor(img, cv2.COLOR_BGR2GRAY)\n",
    "    img = cv2.resize(img, (128,128))\n",
    "    return img\n"
   ]
  },
  {
   "cell_type": "code",
   "execution_count": 13,
   "metadata": {},
   "outputs": [],
   "source": [
    "result_dir = \"./Result_Video/\"\n",
    "if not os.path.exists(result_dir):\n",
    "    os.mkdir(result_dir)\n",
    "vedio_path=\"./Video/test2.mp4\"\n",
    "img_path =\"./123.jpg\"\n",
    "\n"
   ]
  },
  {
   "cell_type": "code",
   "execution_count": 26,
   "metadata": {},
   "outputs": [
    {
     "data": {
      "text/plain": [
       "-1"
      ]
     },
     "execution_count": 26,
     "metadata": {},
     "output_type": "execute_result"
    }
   ],
   "source": [
    "img = cv2.imread(img_path)\n",
    "cv2.imshow('name',img)\n",
    "cv2.waitKey()\n",
    "cv2.imwrite(\"./\")"
   ]
  },
  {
   "cell_type": "code",
   "execution_count": 28,
   "metadata": {},
   "outputs": [],
   "source": [
    "count = -1\n",
    "cap = cv2.VideoCapture(vedio_path)\n",
    "while(cap.isOpened()):\n",
    "    flag, frame = cap.read()\n",
    "    if not flag:\n",
    "        break\n",
    "    frame_change = frame_process(frame)\n",
    "    count += 1\n",
    "\n",
    "    temp_dir_name = os.path.join(result_dir, f\"group {int(count/8)}\")\n",
    "\n",
    "    if not os.path.exists(temp_dir_name):\n",
    "        os.mkdir(temp_dir_name)\n",
    "    \n",
    "    temp_img_name = str(count%8)\n",
    "    temp_path = os.path.join(temp_dir_name, f\"{temp_img_name}.jpg\")\n",
    "\n",
    "    cv2.imwrite(temp_path, frame_change)\n",
    "\n",
    "    \n",
    "\n",
    "\n"
   ]
  }
 ],
 "metadata": {
  "kernelspec": {
   "display_name": "pytorch",
   "language": "python",
   "name": "python3"
  },
  "language_info": {
   "codemirror_mode": {
    "name": "ipython",
    "version": 3
   },
   "file_extension": ".py",
   "mimetype": "text/x-python",
   "name": "python",
   "nbconvert_exporter": "python",
   "pygments_lexer": "ipython3",
   "version": "3.8.15"
  },
  "orig_nbformat": 4,
  "vscode": {
   "interpreter": {
    "hash": "3c920afd5e9cadd5260acd2f232a526811ef4cbf6cfe63966a0c8e5e8c6941a6"
   }
  }
 },
 "nbformat": 4,
 "nbformat_minor": 2
}
