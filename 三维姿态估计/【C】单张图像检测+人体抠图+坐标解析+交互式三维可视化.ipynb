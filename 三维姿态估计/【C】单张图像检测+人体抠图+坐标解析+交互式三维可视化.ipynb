{
 "cells": [
  {
   "cell_type": "markdown",
   "id": "located-horse",
   "metadata": {},
   "source": [
    "B站：同济子豪兄（https://space.bilibili.com/1900783）\n",
    "\n",
    "微信公众号：人工智能小技巧\n",
    "\n",
    "张子豪 2021-07-12"
   ]
  },
  {
   "cell_type": "markdown",
   "id": "worth-flight",
   "metadata": {},
   "source": [
    "# 导入工具包"
   ]
  },
  {
   "cell_type": "code",
   "execution_count": 1,
   "id": "saved-yahoo",
   "metadata": {},
   "outputs": [],
   "source": [
    "# opencv-python\n",
    "import cv2\n",
    "\n",
    "# mediapipe人工智能工具包\n",
    "import mediapipe as mp\n",
    "\n",
    "# 进度条库\n",
    "from tqdm import tqdm\n",
    "\n",
    "# 时间库\n",
    "import time\n",
    "\n",
    "# 导入python绘图matplotlib\n",
    "import matplotlib.pyplot as plt\n",
    "# 使用ipython的魔法方法，将绘制出的图像直接嵌入在notebook单元格中\n",
    "%matplotlib inline"
   ]
  },
  {
   "cell_type": "code",
   "execution_count": 2,
   "id": "hollow-newark",
   "metadata": {},
   "outputs": [],
   "source": [
    "# 定义可视化图像函数\n",
    "def look_img(img):\n",
    "    '''opencv读入图像格式为BGR，matplotlib可视化格式为RGB，因此需将BGR转RGB'''\n",
    "    img_RGB = cv2.cvtColor(img, cv2.COLOR_BGR2RGB)\n",
    "    plt.imshow(img_RGB)\n",
    "    plt.show()"
   ]
  },
  {
   "cell_type": "markdown",
   "id": "protecting-gender",
   "metadata": {},
   "source": [
    "# 导入模型"
   ]
  },
  {
   "cell_type": "code",
   "execution_count": 3,
   "id": "sweet-surfing",
   "metadata": {},
   "outputs": [],
   "source": [
    "# 导入solution\n",
    "mp_pose = mp.solutions.pose\n",
    "\n",
    "# # 导入绘图函数\n",
    "mp_drawing = mp.solutions.drawing_utils \n",
    "\n",
    "# 导入模型\n",
    "pose = mp_pose.Pose(static_image_mode=True,        # 是静态图片还是连续视频帧\n",
    "                    model_complexity=2,            # 选择人体姿态关键点检测模型，0性能差但快，2性能好但慢，1介于两者之间\n",
    "                    smooth_landmarks=True,         # 是否平滑关键点\n",
    "                    enable_segmentation=True,      # 是否人体抠图\n",
    "                    min_detection_confidence=0.5,  # 置信度阈值\n",
    "                    min_tracking_confidence=0.5)   # 追踪阈值"
   ]
  },
  {
   "cell_type": "markdown",
   "id": "promotional-roller",
   "metadata": {},
   "source": [
    "# 读入图像，输入模型，获取预测结果"
   ]
  },
  {
   "cell_type": "code",
   "execution_count": 15,
   "id": "hungry-comfort",
   "metadata": {},
   "outputs": [],
   "source": [
    "# 从图片文件读入图像，opencv读入为BGR格式\n",
    "img = cv2.imread('person2.jfif')\n",
    "# img = cv2.imread('test.jpg')\n",
    "\n",
    "# BGR转RGB\n",
    "img_RGB = cv2.cvtColor(img, cv2.COLOR_BGR2RGB)\n",
    "\n",
    "# 将RGB图像输入模型，获取预测结果\n",
    "results = pose.process(img_RGB)"
   ]
  },
  {
   "cell_type": "code",
   "execution_count": 16,
   "id": "understanding-genesis",
   "metadata": {},
   "outputs": [
    {
     "data": {
      "text/plain": [
       "mediapipe.python.solution_base.SolutionOutputs"
      ]
     },
     "execution_count": 16,
     "metadata": {},
     "output_type": "execute_result"
    }
   ],
   "source": [
    "results"
   ]
  },
  {
   "cell_type": "markdown",
   "id": "crude-alarm",
   "metadata": {},
   "source": [
    "# 人体抠图结果"
   ]
  },
  {
   "cell_type": "code",
   "execution_count": 17,
   "id": "provincial-fossil",
   "metadata": {},
   "outputs": [],
   "source": [
    "mask = results.segmentation_mask"
   ]
  },
  {
   "cell_type": "code",
   "execution_count": 18,
   "id": "opposed-velvet",
   "metadata": {},
   "outputs": [
    {
     "data": {
      "text/plain": [
       "(1232, 1516)"
      ]
     },
     "execution_count": 18,
     "metadata": {},
     "output_type": "execute_result"
    }
   ],
   "source": [
    "mask.shape"
   ]
  },
  {
   "cell_type": "code",
   "execution_count": 19,
   "id": "virgin-incidence",
   "metadata": {},
   "outputs": [
    {
     "data": {
      "text/plain": [
       "(1232, 1516, 3)"
      ]
     },
     "execution_count": 19,
     "metadata": {},
     "output_type": "execute_result"
    }
   ],
   "source": [
    "img.shape"
   ]
  },
  {
   "cell_type": "code",
   "execution_count": 21,
   "id": "executed-vault",
   "metadata": {},
   "outputs": [
    {
     "data": {
      "text/plain": [
       "array([[0., 0., 0., ..., 0., 0., 0.],\n",
       "       [0., 0., 0., ..., 0., 0., 0.],\n",
       "       [0., 0., 0., ..., 0., 0., 0.],\n",
       "       ...,\n",
       "       [0., 0., 0., ..., 0., 0., 0.],\n",
       "       [0., 0., 0., ..., 0., 0., 0.],\n",
       "       [0., 0., 0., ..., 0., 0., 0.]], dtype=float32)"
      ]
     },
     "execution_count": 21,
     "metadata": {},
     "output_type": "execute_result"
    }
   ],
   "source": [
    "#表示图中每一个像素点属于人体的概率，组成的矩阵\n",
    "mask    "
   ]
  },
  {
   "cell_type": "code",
   "execution_count": 22,
   "id": "wired-mapping",
   "metadata": {},
   "outputs": [],
   "source": [
    "mask = mask > 0.5"
   ]
  },
  {
   "cell_type": "code",
   "execution_count": 23,
   "id": "injured-crawford",
   "metadata": {},
   "outputs": [
    {
     "data": {
      "image/png": "[encoded data removed]",
      "text/plain": [
       "<Figure size 432x288 with 1 Axes>"
      ]
     },
     "metadata": {
      "needs_background": "light"
     },
     "output_type": "display_data"
    }
   ],
   "source": [
    "plt.imshow(mask)\n",
    "plt.show()"
   ]
  },
  {
   "cell_type": "code",
   "execution_count": 29,
   "id": "demanding-release",
   "metadata": {},
   "outputs": [],
   "source": [
    "import numpy as np\n",
    "\n",
    "# 单通道转三通道\n",
    "mask_3 = np.stack((mask,mask,mask), axis=-1)\n",
    "\n",
    "MASK_COLOR = [0,200,0]\n",
    "fg_image = np.zeros(img.shape, dtype=np.uint8)\n",
    "fg_image[:] = MASK_COLOR\n",
    "\n",
    "# 获得前景人像\n",
    "FG_img = np.where(mask_3, img, fg_image)\n",
    "\n",
    "# 获得抠掉前景人像的背景\n",
    "BG_img = np.where(~mask_3, img, fg_image)"
   ]
  },
  {
   "cell_type": "code",
   "execution_count": 30,
   "id": "colonial-chambers",
   "metadata": {},
   "outputs": [
    {
     "data": {
      "image/png": "[encoded data removed]",
      "text/plain": [
       "<Figure size 432x288 with 1 Axes>"
      ]
     },
     "metadata": {
      "needs_background": "light"
     },
     "output_type": "display_data"
    }
   ],
   "source": [
    "look_img(FG_img)"
   ]
  },
  {
   "cell_type": "code",
   "execution_count": 31,
   "id": "general-battery",
   "metadata": {},
   "outputs": [
    {
     "data": {
      "image/png": "[encoded data removed]",
      "text/plain": [
       "<Figure size 432x288 with 1 Axes>"
      ]
     },
     "metadata": {
      "needs_background": "light"
     },
     "output_type": "display_data"
    }
   ],
   "source": [
    "look_img(BG_img)"
   ]
  },
  {
   "cell_type": "markdown",
   "id": "molecular-tactics",
   "metadata": {},
   "source": [
    "# 所有关键点检测结果"
   ]
  },
  {
   "cell_type": "code",
   "execution_count": 32,
   "id": "relevant-friendly",
   "metadata": {
    "scrolled": true
   },
   "outputs": [
    {
     "data": {
      "text/plain": [
       "landmark {\n",
       "  x: 0.2880815267562866\n",
       "  y: 0.49080121517181396\n",
       "  z: -0.33444833755493164\n",
       "  visibility: 0.999997615814209\n",
       "}\n",
       "landmark {\n",
       "  x: 0.28420180082321167\n",
       "  y: 0.507981538772583\n",
       "  z: -0.31759384274482727\n",
       "  visibility: 0.999994158744812\n",
       "}\n",
       "landmark {\n",
       "  x: 0.28509536385536194\n",
       "  y: 0.5098167061805725\n",
       "  z: -0.3179478645324707\n",
       "  visibility: 0.9999958276748657\n",
       "}\n",
       "landmark {\n",
       "  x: 0.2859831750392914\n",
       "  y: 0.5118294954299927\n",
       "  z: -0.31795811653137207\n",
       "  visibility: 0.9999961853027344\n",
       "}\n",
       "landmark {\n",
       "  x: 0.2864111363887787\n",
       "  y: 0.5072526931762695\n",
       "  z: -0.3485797345638275\n",
       "  visibility: 0.9999964237213135\n",
       "}\n",
       "landmark {\n",
       "  x: 0.28907710313796997\n",
       "  y: 0.5087754130363464\n",
       "  z: -0.34892138838768005\n",
       "  visibility: 0.9999974966049194\n",
       "}\n",
       "landmark {\n",
       "  x: 0.29216891527175903\n",
       "  y: 0.5106990337371826\n",
       "  z: -0.34911009669303894\n",
       "  visibility: 0.9999959468841553\n",
       "}\n",
       "landmark {\n",
       "  x: 0.30372005701065063\n",
       "  y: 0.5235800743103027\n",
       "  z: -0.2159983515739441\n",
       "  visibility: 0.9999991655349731\n",
       "}\n",
       "landmark {\n",
       "  x: 0.3120146691799164\n",
       "  y: 0.5243638753890991\n",
       "  z: -0.35928112268447876\n",
       "  visibility: 0.9999963045120239\n",
       "}\n",
       "landmark {\n",
       "  x: 0.29924720525741577\n",
       "  y: 0.4829258620738983\n",
       "  z: -0.29357320070266724\n",
       "  visibility: 0.9999982118606567\n",
       "}\n",
       "landmark {\n",
       "  x: 0.302264928817749\n",
       "  y: 0.4832126498222351\n",
       "  z: -0.33669811487197876\n",
       "  visibility: 0.9999959468841553\n",
       "}\n",
       "landmark {\n",
       "  x: 0.34133362770080566\n",
       "  y: 0.4352703392505646\n",
       "  z: -0.1333984136581421\n",
       "  visibility: 0.9999958276748657\n",
       "}\n",
       "landmark {\n",
       "  x: 0.3860260546207428\n",
       "  y: 0.5273534059524536\n",
       "  z: -0.3581378757953644\n",
       "  visibility: 0.9999654293060303\n",
       "}\n",
       "landmark {\n",
       "  x: 0.3369126617908478\n",
       "  y: 0.31087735295295715\n",
       "  z: -0.17103983461856842\n",
       "  visibility: 0.9902464151382446\n",
       "}\n",
       "landmark {\n",
       "  x: 0.3866954743862152\n",
       "  y: 0.645866334438324\n",
       "  z: -0.46205320954322815\n",
       "  visibility: 0.9997074007987976\n",
       "}\n",
       "landmark {\n",
       "  x: 0.31613171100616455\n",
       "  y: 0.19996251165866852\n",
       "  z: -0.29969704151153564\n",
       "  visibility: 0.9958771467208862\n",
       "}\n",
       "landmark {\n",
       "  x: 0.3825957775115967\n",
       "  y: 0.7585012912750244\n",
       "  z: -0.5766404271125793\n",
       "  visibility: 0.999506950378418\n",
       "}\n",
       "landmark {\n",
       "  x: 0.3150763511657715\n",
       "  y: 0.16632667183876038\n",
       "  z: -0.308233380317688\n",
       "  visibility: 0.9913432598114014\n",
       "}\n",
       "landmark {\n",
       "  x: 0.3656232953071594\n",
       "  y: 0.7882305979728699\n",
       "  z: -0.6220014691352844\n",
       "  visibility: 0.9985754489898682\n",
       "}\n",
       "landmark {\n",
       "  x: 0.3129280209541321\n",
       "  y: 0.16214048862457275\n",
       "  z: -0.36040446162223816\n",
       "  visibility: 0.9934647679328918\n",
       "}\n",
       "landmark {\n",
       "  x: 0.3645728826522827\n",
       "  y: 0.7904163599014282\n",
       "  z: -0.6391100883483887\n",
       "  visibility: 0.9986361861228943\n",
       "}\n",
       "landmark {\n",
       "  x: 0.31427237391471863\n",
       "  y: 0.1741580069065094\n",
       "  z: -0.32688286900520325\n",
       "  visibility: 0.9943246245384216\n",
       "}\n",
       "landmark {\n",
       "  x: 0.3702152967453003\n",
       "  y: 0.7793178558349609\n",
       "  z: -0.592994213104248\n",
       "  visibility: 0.9979496598243713\n",
       "}\n",
       "landmark {\n",
       "  x: 0.5192102193832397\n",
       "  y: 0.4441559612751007\n",
       "  z: 0.07958406209945679\n",
       "  visibility: 0.9999425411224365\n",
       "}\n",
       "landmark {\n",
       "  x: 0.5422876477241516\n",
       "  y: 0.44421276450157166\n",
       "  z: -0.07964891940355301\n",
       "  visibility: 0.9999709129333496\n",
       "}\n",
       "landmark {\n",
       "  x: 0.591067373752594\n",
       "  y: 0.5470075607299805\n",
       "  z: 0.3177867829799652\n",
       "  visibility: 0.9389004707336426\n",
       "}\n",
       "landmark {\n",
       "  x: 0.6373999118804932\n",
       "  y: 0.5695316791534424\n",
       "  z: -0.07007647305727005\n",
       "  visibility: 0.9998712539672852\n",
       "}\n",
       "landmark {\n",
       "  x: 0.5416664481163025\n",
       "  y: 0.6969853639602661\n",
       "  z: 0.4821734130382538\n",
       "  visibility: 0.9793297052383423\n",
       "}\n",
       "landmark {\n",
       "  x: 0.7267181277275085\n",
       "  y: 0.7052508592605591\n",
       "  z: -0.004453335423022509\n",
       "  visibility: 0.9998063445091248\n",
       "}\n",
       "landmark {\n",
       "  x: 0.5218087434768677\n",
       "  y: 0.7040776610374451\n",
       "  z: 0.49282151460647583\n",
       "  visibility: 0.9888448119163513\n",
       "}\n",
       "landmark {\n",
       "  x: 0.7256070375442505\n",
       "  y: 0.7296609878540039\n",
       "  z: -0.0012956962455064058\n",
       "  visibility: 0.9986304044723511\n",
       "}\n",
       "landmark {\n",
       "  x: 0.5368324518203735\n",
       "  y: 0.7649130821228027\n",
       "  z: 0.41529580950737\n",
       "  visibility: 0.9925875067710876\n",
       "}\n",
       "landmark {\n",
       "  x: 0.7755953669548035\n",
       "  y: 0.7566237449645996\n",
       "  z: -0.13474024832248688\n",
       "  visibility: 0.9995958209037781\n",
       "}"
      ]
     },
     "execution_count": 32,
     "metadata": {},
     "output_type": "execute_result"
    }
   ],
   "source": [
    "results.pose_landmarks  ##所有关键点坐标与置信度"
   ]
  },
  {
   "cell_type": "code",
   "execution_count": 17,
   "id": "radio-trademark",
   "metadata": {},
   "outputs": [
    {
     "data": {
      "text/plain": [
       "frozenset({(0, 1),\n",
       "           (0, 4),\n",
       "           (1, 2),\n",
       "           (2, 3),\n",
       "           (3, 7),\n",
       "           (4, 5),\n",
       "           (5, 6),\n",
       "           (6, 8),\n",
       "           (9, 10),\n",
       "           (11, 12),\n",
       "           (11, 13),\n",
       "           (11, 23),\n",
       "           (12, 14),\n",
       "           (12, 24),\n",
       "           (13, 15),\n",
       "           (14, 16),\n",
       "           (15, 17),\n",
       "           (15, 19),\n",
       "           (15, 21),\n",
       "           (16, 18),\n",
       "           (16, 20),\n",
       "           (16, 22),\n",
       "           (17, 19),\n",
       "           (18, 20),\n",
       "           (23, 24),\n",
       "           (23, 25),\n",
       "           (24, 26),\n",
       "           (25, 27),\n",
       "           (26, 28),\n",
       "           (27, 29),\n",
       "           (27, 31),\n",
       "           (28, 30),\n",
       "           (28, 32),\n",
       "           (29, 31),\n",
       "           (30, 32)})"
      ]
     },
     "execution_count": 17,
     "metadata": {},
     "output_type": "execute_result"
    }
   ],
   "source": [
    "mp_pose.POSE_CONNECTIONS  ##关键点链接方式"
   ]
  },
  {
   "cell_type": "code",
   "execution_count": 18,
   "id": "regional-cardiff",
   "metadata": {},
   "outputs": [
    {
     "data": {
      "text/plain": [
       "x: 0.6200001239776611\n",
       "y: 0.4735395312309265\n",
       "z: -0.46769076585769653\n",
       "visibility: 0.9962891340255737"
      ]
     },
     "execution_count": 18,
     "metadata": {},
     "output_type": "execute_result"
    }
   ],
   "source": [
    "# 左胳膊肘关键点的归一化坐标\n",
    "results.pose_landmarks.landmark[mp_pose.PoseLandmark.LEFT_ELBOW]"
   ]
  },
  {
   "cell_type": "code",
   "execution_count": 19,
   "id": "passive-humidity",
   "metadata": {},
   "outputs": [
    {
     "data": {
      "text/plain": [
       "x: 0.6200001239776611\n",
       "y: 0.4735395312309265\n",
       "z: -0.46769076585769653\n",
       "visibility: 0.9962891340255737"
      ]
     },
     "execution_count": 19,
     "metadata": {},
     "output_type": "execute_result"
    }
   ],
   "source": [
    "# 左胳膊肘关键点的归一化坐标\n",
    "results.pose_landmarks.landmark[13]"
   ]
  },
  {
   "cell_type": "code",
   "execution_count": 20,
   "id": "judicial-yeast",
   "metadata": {},
   "outputs": [
    {
     "data": {
      "text/plain": [
       "0.6200001239776611"
      ]
     },
     "execution_count": 20,
     "metadata": {},
     "output_type": "execute_result"
    }
   ],
   "source": [
    "# 左胳膊肘关键点的归一化坐标\n",
    "results.pose_landmarks.landmark[13].x"
   ]
  },
  {
   "cell_type": "code",
   "execution_count": 34,
   "id": "2a633215",
   "metadata": {},
   "outputs": [
    {
     "data": {
      "image/png": "[encoded data removed]",
      "text/plain": [
       "<Figure size 720x720 with 1 Axes>"
      ]
     },
     "metadata": {
      "needs_background": "light"
     },
     "output_type": "display_data"
    },
    {
     "data": {
      "image/png": "[encoded data removed]",
      "text/plain": [
       "<Figure size 432x288 with 1 Axes>"
      ]
     },
     "metadata": {
      "needs_background": "light"
     },
     "output_type": "display_data"
    }
   ],
   "source": [
    "mp_drawing.draw_landmarks(img, results.pose_landmarks, mp_pose.POSE_CONNECTIONS) ##利用这些参数与原图结合生成框架图\n",
    "mp_drawing.plot_landmarks(results.pose_world_landmarks, mp_pose.POSE_CONNECTIONS) ##真实尺度下的坐标\n",
    "look_img(img)"
   ]
  },
  {
   "cell_type": "markdown",
   "id": "built-clarity",
   "metadata": {},
   "source": [
    "# 解析指定关键点的像素坐标"
   ]
  },
  {
   "cell_type": "code",
   "execution_count": 35,
   "id": "registered-second",
   "metadata": {},
   "outputs": [
    {
     "data": {
      "text/plain": [
       "(1232, 1516, 3)"
      ]
     },
     "execution_count": 35,
     "metadata": {},
     "output_type": "execute_result"
    }
   ],
   "source": [
    "img.shape"
   ]
  },
  {
   "cell_type": "code",
   "execution_count": 36,
   "id": "animal-solomon",
   "metadata": {},
   "outputs": [],
   "source": [
    "h = img.shape[0]\n",
    "w = img.shape[1]"
   ]
  },
  {
   "cell_type": "code",
   "execution_count": 37,
   "id": "apparent-nomination",
   "metadata": {},
   "outputs": [
    {
     "data": {
      "text/plain": [
       "510.75959527492523"
      ]
     },
     "execution_count": 37,
     "metadata": {},
     "output_type": "execute_result"
    }
   ],
   "source": [
    "# 左胳膊肘关键点像素横坐标\n",
    "results.pose_landmarks.landmark[mp_pose.PoseLandmark.LEFT_ELBOW].x * w"
   ]
  },
  {
   "cell_type": "code",
   "execution_count": 38,
   "id": "aggregate-korean",
   "metadata": {},
   "outputs": [
    {
     "data": {
      "text/plain": [
       "383.0008988380432"
      ]
     },
     "execution_count": 38,
     "metadata": {},
     "output_type": "execute_result"
    }
   ],
   "source": [
    "# 左胳膊肘关键点像素纵坐标\n",
    "results.pose_landmarks.landmark[mp_pose.PoseLandmark.LEFT_ELBOW].y * h"
   ]
  },
  {
   "cell_type": "markdown",
   "id": "duplicate-deficit",
   "metadata": {},
   "source": [
    "# 解析指定关键点的真实物理（米）坐标"
   ]
  },
  {
   "cell_type": "code",
   "execution_count": 39,
   "id": "imperial-israel",
   "metadata": {},
   "outputs": [
    {
     "data": {
      "text/plain": [
       "x: -0.6152791380882263\n",
       "y: 0.051484689116477966\n",
       "z: -0.38032788038253784\n",
       "visibility: 0.999997615814209"
      ]
     },
     "execution_count": 39,
     "metadata": {},
     "output_type": "execute_result"
    }
   ],
   "source": [
    "results.pose_world_landmarks.landmark[mp_pose.PoseLandmark.NOSE]"
   ]
  },
  {
   "cell_type": "code",
   "execution_count": 40,
   "id": "mysterious-research",
   "metadata": {},
   "outputs": [
    {
     "data": {
      "text/plain": [
       "x: -0.03507702797651291\n",
       "y: -0.03488774597644806\n",
       "z: 0.08458755165338516\n",
       "visibility: 0.9999425411224365"
      ]
     },
     "execution_count": 40,
     "metadata": {},
     "output_type": "execute_result"
    }
   ],
   "source": [
    "results.pose_world_landmarks.landmark[23]"
   ]
  },
  {
   "cell_type": "markdown",
   "id": "impressed-thesis",
   "metadata": {},
   "source": [
    "真实物理坐标的原点位于左右髋关节连线的中点（肚脐附近），详见论文。"
   ]
  },
  {
   "cell_type": "markdown",
   "id": "light-beijing",
   "metadata": {},
   "source": [
    "# 交互式三维可视化"
   ]
  },
  {
   "cell_type": "code",
   "execution_count": 41,
   "id": "chemical-working",
   "metadata": {},
   "outputs": [],
   "source": [
    "import numpy as np"
   ]
  },
  {
   "cell_type": "code",
   "execution_count": 42,
   "id": "toxic-condition",
   "metadata": {},
   "outputs": [],
   "source": [
    "coords = np.array(results.pose_landmarks.landmark)"
   ]
  },
  {
   "cell_type": "code",
   "execution_count": 43,
   "id": "major-marina",
   "metadata": {},
   "outputs": [
    {
     "data": {
      "text/plain": [
       "array([x: 0.2880815267562866\n",
       "       y: 0.49080121517181396\n",
       "       z: -0.33444833755493164\n",
       "       visibility: 0.999997615814209, x: 0.28420180082321167\n",
       "                                      y: 0.507981538772583\n",
       "                                      z: -0.31759384274482727\n",
       "                                      visibility: 0.999994158744812,\n",
       "       x: 0.28509536385536194\n",
       "       y: 0.5098167061805725\n",
       "       z: -0.3179478645324707\n",
       "       visibility: 0.9999958276748657, x: 0.2859831750392914\n",
       "                                       y: 0.5118294954299927\n",
       "                                       z: -0.31795811653137207\n",
       "                                       visibility: 0.9999961853027344,\n",
       "       x: 0.2864111363887787\n",
       "       y: 0.5072526931762695\n",
       "       z: -0.3485797345638275\n",
       "       visibility: 0.9999964237213135, x: 0.28907710313796997\n",
       "                                       y: 0.5087754130363464\n",
       "                                       z: -0.34892138838768005\n",
       "                                       visibility: 0.9999974966049194,\n",
       "       x: 0.29216891527175903\n",
       "       y: 0.5106990337371826\n",
       "       z: -0.34911009669303894\n",
       "       visibility: 0.9999959468841553, x: 0.30372005701065063\n",
       "                                       y: 0.5235800743103027\n",
       "                                       z: -0.2159983515739441\n",
       "                                       visibility: 0.9999991655349731,\n",
       "       x: 0.3120146691799164\n",
       "       y: 0.5243638753890991\n",
       "       z: -0.35928112268447876\n",
       "       visibility: 0.9999963045120239, x: 0.29924720525741577\n",
       "                                       y: 0.4829258620738983\n",
       "                                       z: -0.29357320070266724\n",
       "                                       visibility: 0.9999982118606567,\n",
       "       x: 0.302264928817749\n",
       "       y: 0.4832126498222351\n",
       "       z: -0.33669811487197876\n",
       "       visibility: 0.9999959468841553, x: 0.34133362770080566\n",
       "                                       y: 0.4352703392505646\n",
       "                                       z: -0.1333984136581421\n",
       "                                       visibility: 0.9999958276748657,\n",
       "       x: 0.3860260546207428\n",
       "       y: 0.5273534059524536\n",
       "       z: -0.3581378757953644\n",
       "       visibility: 0.9999654293060303, x: 0.3369126617908478\n",
       "                                       y: 0.31087735295295715\n",
       "                                       z: -0.17103983461856842\n",
       "                                       visibility: 0.9902464151382446,\n",
       "       x: 0.3866954743862152\n",
       "       y: 0.645866334438324\n",
       "       z: -0.46205320954322815\n",
       "       visibility: 0.9997074007987976, x: 0.31613171100616455\n",
       "                                       y: 0.19996251165866852\n",
       "                                       z: -0.29969704151153564\n",
       "                                       visibility: 0.9958771467208862,\n",
       "       x: 0.3825957775115967\n",
       "       y: 0.7585012912750244\n",
       "       z: -0.5766404271125793\n",
       "       visibility: 0.999506950378418, x: 0.3150763511657715\n",
       "                                      y: 0.16632667183876038\n",
       "                                      z: -0.308233380317688\n",
       "                                      visibility: 0.9913432598114014,\n",
       "       x: 0.3656232953071594\n",
       "       y: 0.7882305979728699\n",
       "       z: -0.6220014691352844\n",
       "       visibility: 0.9985754489898682, x: 0.3129280209541321\n",
       "                                       y: 0.16214048862457275\n",
       "                                       z: -0.36040446162223816\n",
       "                                       visibility: 0.9934647679328918,\n",
       "       x: 0.3645728826522827\n",
       "       y: 0.7904163599014282\n",
       "       z: -0.6391100883483887\n",
       "       visibility: 0.9986361861228943, x: 0.31427237391471863\n",
       "                                       y: 0.1741580069065094\n",
       "                                       z: -0.32688286900520325\n",
       "                                       visibility: 0.9943246245384216,\n",
       "       x: 0.3702152967453003\n",
       "       y: 0.7793178558349609\n",
       "       z: -0.592994213104248\n",
       "       visibility: 0.9979496598243713, x: 0.5192102193832397\n",
       "                                       y: 0.4441559612751007\n",
       "                                       z: 0.07958406209945679\n",
       "                                       visibility: 0.9999425411224365,\n",
       "       x: 0.5422876477241516\n",
       "       y: 0.44421276450157166\n",
       "       z: -0.07964891940355301\n",
       "       visibility: 0.9999709129333496, x: 0.591067373752594\n",
       "                                       y: 0.5470075607299805\n",
       "                                       z: 0.3177867829799652\n",
       "                                       visibility: 0.9389004707336426,\n",
       "       x: 0.6373999118804932\n",
       "       y: 0.5695316791534424\n",
       "       z: -0.07007647305727005\n",
       "       visibility: 0.9998712539672852, x: 0.5416664481163025\n",
       "                                       y: 0.6969853639602661\n",
       "                                       z: 0.4821734130382538\n",
       "                                       visibility: 0.9793297052383423,\n",
       "       x: 0.7267181277275085\n",
       "       y: 0.7052508592605591\n",
       "       z: -0.004453335423022509\n",
       "       visibility: 0.9998063445091248, x: 0.5218087434768677\n",
       "                                       y: 0.7040776610374451\n",
       "                                       z: 0.49282151460647583\n",
       "                                       visibility: 0.9888448119163513,\n",
       "       x: 0.7256070375442505\n",
       "       y: 0.7296609878540039\n",
       "       z: -0.0012956962455064058\n",
       "       visibility: 0.9986304044723511, x: 0.5368324518203735\n",
       "                                       y: 0.7649130821228027\n",
       "                                       z: 0.41529580950737\n",
       "                                       visibility: 0.9925875067710876,\n",
       "       x: 0.7755953669548035\n",
       "       y: 0.7566237449645996\n",
       "       z: -0.13474024832248688\n",
       "       visibility: 0.9995958209037781], dtype=object)"
      ]
     },
     "execution_count": 43,
     "metadata": {},
     "output_type": "execute_result"
    }
   ],
   "source": [
    "coords"
   ]
  },
  {
   "cell_type": "code",
   "execution_count": 44,
   "id": "rational-gravity",
   "metadata": {},
   "outputs": [
    {
     "data": {
      "text/plain": [
       "33"
      ]
     },
     "execution_count": 44,
     "metadata": {},
     "output_type": "execute_result"
    }
   ],
   "source": [
    "len(coords)"
   ]
  },
  {
   "cell_type": "code",
   "execution_count": 45,
   "id": "alpha-gibson",
   "metadata": {},
   "outputs": [
    {
     "data": {
      "text/plain": [
       "0.2880815267562866"
      ]
     },
     "execution_count": 45,
     "metadata": {},
     "output_type": "execute_result"
    }
   ],
   "source": [
    "coords[0].x"
   ]
  },
  {
   "cell_type": "code",
   "execution_count": 46,
   "id": "decent-grammar",
   "metadata": {},
   "outputs": [],
   "source": [
    "# 在不用耗时循环的条件下，汇总所有点的XYZ坐标\n",
    "\n",
    "def get_x(each):\n",
    "    return each.x\n",
    "def get_y(each):\n",
    "    return each.y\n",
    "def get_z(each):\n",
    "    return each.z\n",
    "\n",
    "# 分别获取所有关键点的XYZ坐标\n",
    "points_x = np.array(list(map(get_x, coords)))\n",
    "points_y = np.array(list(map(get_y, coords)))\n",
    "points_z = np.array(list(map(get_z, coords)))\n",
    "\n",
    "# 将三个方向的坐标合并\n",
    "points = np.vstack((points_x, points_y, points_z)).T"
   ]
  },
  {
   "cell_type": "code",
   "execution_count": 47,
   "id": "continuous-starter",
   "metadata": {},
   "outputs": [
    {
     "data": {
      "text/plain": [
       "(33, 3)"
      ]
     },
     "execution_count": 47,
     "metadata": {},
     "output_type": "execute_result"
    }
   ],
   "source": [
    "points.shape"
   ]
  },
  {
   "cell_type": "code",
   "execution_count": 48,
   "id": "incoming-trade",
   "metadata": {},
   "outputs": [
    {
     "data": {
      "text/plain": [
       "array([[ 0.28808153,  0.49080122, -0.33444834],\n",
       "       [ 0.2842018 ,  0.50798154, -0.31759384],\n",
       "       [ 0.28509536,  0.50981671, -0.31794786],\n",
       "       [ 0.28598318,  0.5118295 , -0.31795812],\n",
       "       [ 0.28641114,  0.50725269, -0.34857973],\n",
       "       [ 0.2890771 ,  0.50877541, -0.34892139],\n",
       "       [ 0.29216892,  0.51069903, -0.3491101 ],\n",
       "       [ 0.30372006,  0.52358007, -0.21599835],\n",
       "       [ 0.31201467,  0.52436388, -0.35928112],\n",
       "       [ 0.29924721,  0.48292586, -0.2935732 ],\n",
       "       [ 0.30226493,  0.48321265, -0.33669811],\n",
       "       [ 0.34133363,  0.43527034, -0.13339841],\n",
       "       [ 0.38602605,  0.52735341, -0.35813788],\n",
       "       [ 0.33691266,  0.31087735, -0.17103983],\n",
       "       [ 0.38669547,  0.64586633, -0.46205321],\n",
       "       [ 0.31613171,  0.19996251, -0.29969704],\n",
       "       [ 0.38259578,  0.75850129, -0.57664043],\n",
       "       [ 0.31507635,  0.16632667, -0.30823338],\n",
       "       [ 0.3656233 ,  0.7882306 , -0.62200147],\n",
       "       [ 0.31292802,  0.16214049, -0.36040446],\n",
       "       [ 0.36457288,  0.79041636, -0.63911009],\n",
       "       [ 0.31427237,  0.17415801, -0.32688287],\n",
       "       [ 0.3702153 ,  0.77931786, -0.59299421],\n",
       "       [ 0.51921022,  0.44415596,  0.07958406],\n",
       "       [ 0.54228765,  0.44421276, -0.07964892],\n",
       "       [ 0.59106737,  0.54700756,  0.31778678],\n",
       "       [ 0.63739991,  0.56953168, -0.07007647],\n",
       "       [ 0.54166645,  0.69698536,  0.48217341],\n",
       "       [ 0.72671813,  0.70525086, -0.00445334],\n",
       "       [ 0.52180874,  0.70407766,  0.49282151],\n",
       "       [ 0.72560704,  0.72966099, -0.0012957 ],\n",
       "       [ 0.53683245,  0.76491308,  0.41529581],\n",
       "       [ 0.77559537,  0.75662374, -0.13474025]])"
      ]
     },
     "execution_count": 48,
     "metadata": {},
     "output_type": "execute_result"
    }
   ],
   "source": [
    "points"
   ]
  },
  {
   "cell_type": "code",
   "execution_count": 49,
   "id": "animal-dividend",
   "metadata": {},
   "outputs": [
    {
     "ename": "ModuleNotFoundError",
     "evalue": "No module named 'open3d'",
     "output_type": "error",
     "traceback": [
      "\u001b[1;31m---------------------------------------------------------------------------\u001b[0m",
      "\u001b[1;31mModuleNotFoundError\u001b[0m                       Traceback (most recent call last)",
      "Input \u001b[1;32mIn [49]\u001b[0m, in \u001b[0;36m<cell line: 1>\u001b[1;34m()\u001b[0m\n\u001b[1;32m----> 1\u001b[0m \u001b[38;5;28;01mimport\u001b[39;00m \u001b[38;5;21;01mopen3d\u001b[39;00m\n\u001b[0;32m      2\u001b[0m point_cloud \u001b[38;5;241m=\u001b[39m open3d\u001b[38;5;241m.\u001b[39mPointCloud()\n\u001b[0;32m      3\u001b[0m point_cloud\u001b[38;5;241m.\u001b[39mpoints \u001b[38;5;241m=\u001b[39m open3d\u001b[38;5;241m.\u001b[39mVector3dVector(points)\n",
      "\u001b[1;31mModuleNotFoundError\u001b[0m: No module named 'open3d'"
     ]
    }
   ],
   "source": [
    "import open3d\n",
    "point_cloud = open3d.PointCloud()\n",
    "point_cloud.points = open3d.Vector3dVector(points)\n",
    "open3d.draw_geometries([point_cloud])"
   ]
  },
  {
   "cell_type": "code",
   "execution_count": null,
   "id": "thirty-sauce",
   "metadata": {},
   "outputs": [],
   "source": []
  },
  {
   "cell_type": "code",
   "execution_count": null,
   "id": "outstanding-interval",
   "metadata": {},
   "outputs": [],
   "source": []
  }
 ],
 "metadata": {
  "kernelspec": {
   "display_name": "Python 3 (ipykernel)",
   "language": "python",
   "name": "python3"
  },
  "language_info": {
   "codemirror_mode": {
    "name": "ipython",
    "version": 3
   },
   "file_extension": ".py",
   "mimetype": "text/x-python",
   "name": "python",
   "nbconvert_exporter": "python",
   "pygments_lexer": "ipython3",
   "version": "3.8.13"
  }
 },
 "nbformat": 4,
 "nbformat_minor": 5
}
