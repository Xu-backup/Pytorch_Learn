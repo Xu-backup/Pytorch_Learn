{
 "cells": [
  {
   "cell_type": "code",
   "execution_count": 3,
   "id": "3fdb27ce",
   "metadata": {},
   "outputs": [
    {
     "ename": "IndentationError",
     "evalue": "unexpected indent (775080968.py, line 52)",
     "output_type": "error",
     "traceback": [
      "\u001b[1;36m  Input \u001b[1;32mIn [3]\u001b[1;36m\u001b[0m\n\u001b[1;33m    config = rs.config()\u001b[0m\n\u001b[1;37m    ^\u001b[0m\n\u001b[1;31mIndentationError\u001b[0m\u001b[1;31m:\u001b[0m unexpected indent\n"
     ]
    }
   ],
   "source": [
    "import numpy as np\n",
    "import pyrealsense2 as rs\n",
    "import mediapipe as mp\n",
    "import os\n",
    "import time\n",
    "import cv2\n",
    "\n",
    "# 导入solution\n",
    "mp_pose = mp.solutions.pose\n",
    "\n",
    "# # 导入绘图函数\n",
    "mp_drawing = mp.solutions.drawing_utils \n",
    "\n",
    "# 导入模型\n",
    "pose = mp_pose.Pose(static_image_mode=False,        # 是静态图片还是连续视频帧\n",
    "                    model_complexity=2,            # 选择人体姿态关键点检测模型，0性能差但快，2性能好但慢，1介于两者之间\n",
    "                    smooth_landmarks=True,         # 是否平滑关键点\n",
    "                    enable_segmentation=True,      # 是否人体抠图\n",
    "                    min_detection_confidence=0.5,  # 置信度阈值\n",
    "                    min_tracking_confidence=0.5)   # 追踪阈值\n",
    "\n",
    "def process_frame(img):\n",
    "    # BGR转RGB\n",
    "    img_RGB = cv2.cvtColor(img, cv2.COLOR_BGR2RGB)\n",
    "    # 将RGB图像输入模型，获取预测结果\n",
    "    results = pose.process(img_RGB)\n",
    "\n",
    "    # 可视化\n",
    "    mp_drawing.draw_landmarks(img, results.pose_landmarks, mp_pose.POSE_CONNECTIONS)\n",
    "    # look_img(img)\n",
    "    # 在三维真实物理坐标系中可视化以米为单位的检测结果\n",
    "    # mp_drawing.plot_landmarks(results.pose_world_landmarks, mp_pose.POSE_CONNECTIONS)\n",
    "    \n",
    "#     # BGR转RGB\n",
    "#     img_RGB = cv2.cvtColor(img, cv2.COLOR_BGR2RGB)\n",
    "#     # 将RGB图像输入模型，获取预测结果\n",
    "#     results = hands.process(img_RGB)\n",
    "    \n",
    "#     if results.multi_hand_landmarks: # 如果有检测到手\n",
    "#         # 遍历每一只检测出的手\n",
    "#         for hand_idx in range(len(results.multi_hand_landmarks)):\n",
    "#             hand_21 = results.multi_hand_landmarks[hand_idx] # 获取该手的所有关键点坐标\n",
    "#             mpDraw.draw_landmarks(img, hand_21, mp_hands.HAND_CONNECTIONS) # 可视化\n",
    "            \n",
    "    return img\n",
    "\n",
    "i = 0\n",
    "fps = 60\n",
    "    # 计算每帧显示时长，单位ms\n",
    "wait = int(1 / fps * 750)\n",
    "\n",
    "config = rs.config()\n",
    "rs.config.enable_device_from_file(config, \"C:/Users/Xu/Desktop/test/test.bag\", repeat_playback=False)\n",
    "pipeline = rs.pipeline()\n",
    "profile = pipeline.start(config)\n",
    "\n"
   ]
  },
  {
   "cell_type": "code",
   "execution_count": null,
   "id": "cebe835a",
   "metadata": {},
   "outputs": [],
   "source": []
  }
 ],
 "metadata": {
  "kernelspec": {
   "display_name": "Python 3 (ipykernel)",
   "language": "python",
   "name": "python3"
  },
  "language_info": {
   "codemirror_mode": {
    "name": "ipython",
    "version": 3
   },
   "file_extension": ".py",
   "mimetype": "text/x-python",
   "name": "python",
   "nbconvert_exporter": "python",
   "pygments_lexer": "ipython3",
   "version": "3.8.13"
  }
 },
 "nbformat": 4,
 "nbformat_minor": 5
}
